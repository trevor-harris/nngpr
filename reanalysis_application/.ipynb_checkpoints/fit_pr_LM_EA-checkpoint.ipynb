{
 "cells": [
  {
   "cell_type": "code",
   "execution_count": 1,
   "metadata": {},
   "outputs": [],
   "source": [
    "import os\n",
    "import gc\n",
    "import math\n",
    "\n",
    "# numpy\n",
    "import numpy as np\n",
    "import numpy.ma as ma\n",
    "\n",
    "from jax import vmap, grad, jit, random\n",
    "from jax.config import config\n",
    "from jax.experimental import optimizers\n",
    "import jax.numpy as jnp\n",
    "from jax.tree_util import tree_map, tree_flatten, tree_unflatten, tree_leaves\n",
    "\n",
    "config.update(\"jax_enable_x64\", True)\n",
    "\n",
    "from skimage.restoration import estimate_sigma\n",
    "from skimage.transform import resize\n",
    "\n",
    "### CRPS\n",
    "import properscoring as ps\n",
    "\n",
    "### SSIM and PSNR\n",
    "from skimage.metrics import structural_similarity as ssim\n",
    "from skimage.metrics import peak_signal_noise_ratio as psnr\n",
    "\n",
    "# plotting\n",
    "import matplotlib\n",
    "import matplotlib.pyplot as plt\n",
    "from matplotlib import ticker\n",
    "from matplotlib.ticker import FormatStrFormatter\n",
    "plt.style.use('default')\n",
    "\n",
    "from matplotlib.gridspec import GridSpec\n",
    "from matplotlib import colors\n",
    "from cartopy import config\n",
    "import cartopy.crs as ccrs\n",
    "import cartopy.feature as cfeature\n",
    "\n",
    "# netCDF\n",
    "import netCDF4 as nc\n",
    "\n",
    "from tqdm.notebook import tqdm\n",
    "from tqdm.notebook import trange\n",
    "\n",
    "import pickle"
   ]
  },
  {
   "cell_type": "code",
   "execution_count": 2,
   "metadata": {},
   "outputs": [],
   "source": [
    "xhist = pickle.load(open('../data/saved/xhist_pr.pkl', 'rb'))\n",
    "xrcp = pickle.load(open('../data/saved/xrcp_pr.pkl', 'rb'))"
   ]
  },
  {
   "cell_type": "code",
   "execution_count": 3,
   "metadata": {},
   "outputs": [
    {
     "data": {
      "application/vnd.jupyter.widget-view+json": {
       "model_id": "686c01ec7b9043caa326ebf456e21021",
       "version_major": 2,
       "version_minor": 0
      },
      "text/plain": [
       "  0%|          | 0/16 [00:00<?, ?it/s]"
      ]
     },
     "metadata": {},
     "output_type": "display_data"
    }
   ],
   "source": [
    "#### construct training set\n",
    "nmod = 16\n",
    "nval = 9\n",
    "nfit = 789\n",
    "nlat = 721\n",
    "nlon = 1440\n",
    "\n",
    "for i in trange(nmod):\n",
    "    \n",
    "    x1 = xhist[i]\n",
    "    x2 = xrcp[i][0:nval]\n",
    "    x = np.vstack([x1, x2])\n",
    "    x = np.moveaxis(x, 0, 2)\n",
    "    x = resize(x, (nlat, nlon))\n",
    "    x = np.moveaxis(x, 2, 0)\n",
    "\n",
    "    np.save(f'./pr_rescaled/model_{i:02}', x)"
   ]
  },
  {
   "cell_type": "code",
   "execution_count": 2,
   "metadata": {},
   "outputs": [],
   "source": [
    "def lm_beta(x, y):\n",
    "    return jnp.matmul(jnp.matmul(jnp.linalg.inv(jnp.matmul(x.T, x)), x.T), y)\n",
    "\n",
    "lm_beta = jit(lm_beta)\n",
    "\n",
    "def prediction_variance(xtrain, xtest, sigma_field):\n",
    "    x_inv = jnp.linalg.inv(jnp.matmul(xtrain.T, xtrain))\n",
    "    x_scale = jnp.sqrt(1 + jnp.diag(jnp.matmul(jnp.matmul(xtest, x_inv), xtest.T)))\n",
    "    return sigma_field * x_scale\n",
    "\n",
    "prediction_variance = jit(vmap(vmap(prediction_variance, (1, 1, 0)), (2, 2, 1)))"
   ]
  },
  {
   "cell_type": "code",
   "execution_count": 3,
   "metadata": {},
   "outputs": [],
   "source": [
    "nmod = 16\n",
    "nval = 9\n",
    "nfit = 789\n",
    "nlat = 721\n",
    "nlon = 1440\n",
    "\n",
    "rea = np.load('../data/saved/pr_obs.npz.npy')\n",
    "rea = rea[0:nfit]"
   ]
  },
  {
   "cell_type": "markdown",
   "metadata": {},
   "source": [
    "# Estimate Betas"
   ]
  },
  {
   "cell_type": "code",
   "execution_count": 4,
   "metadata": {},
   "outputs": [
    {
     "data": {
      "application/vnd.jupyter.widget-view+json": {
       "model_id": "a227ebe8252c425c90550978dd01d2cc",
       "version_major": 2,
       "version_minor": 0
      },
      "text/plain": [
       "  0%|          | 0/2 [00:00<?, ?it/s]"
      ]
     },
     "metadata": {},
     "output_type": "display_data"
    },
    {
     "data": {
      "application/vnd.jupyter.widget-view+json": {
       "model_id": "50292b2e325b469da7b5b2068a9af17f",
       "version_major": 2,
       "version_minor": 0
      },
      "text/plain": [
       "  0%|          | 0/2 [00:00<?, ?it/s]"
      ]
     },
     "metadata": {},
     "output_type": "display_data"
    },
    {
     "data": {
      "application/vnd.jupyter.widget-view+json": {
       "model_id": "2777607b0f8b46e6bae920da03863743",
       "version_major": 2,
       "version_minor": 0
      },
      "text/plain": [
       "  0%|          | 0/16 [00:00<?, ?it/s]"
      ]
     },
     "metadata": {},
     "output_type": "display_data"
    },
    {
     "data": {
      "application/vnd.jupyter.widget-view+json": {
       "model_id": "1f69d3424ceb4bc2a5bacd48ed28338c",
       "version_major": 2,
       "version_minor": 0
      },
      "text/plain": [
       "  0%|          | 0/360 [00:00<?, ?it/s]"
      ]
     },
     "metadata": {},
     "output_type": "display_data"
    },
    {
     "data": {
      "application/vnd.jupyter.widget-view+json": {
       "model_id": "59829617549d412195485c6b462c45cb",
       "version_major": 2,
       "version_minor": 0
      },
      "text/plain": [
       "  0%|          | 0/16 [00:00<?, ?it/s]"
      ]
     },
     "metadata": {},
     "output_type": "display_data"
    },
    {
     "data": {
      "application/vnd.jupyter.widget-view+json": {
       "model_id": "7626b556461a4101a667eb60a695eb3f",
       "version_major": 2,
       "version_minor": 0
      },
      "text/plain": [
       "  0%|          | 0/360 [00:00<?, ?it/s]"
      ]
     },
     "metadata": {},
     "output_type": "display_data"
    },
    {
     "data": {
      "application/vnd.jupyter.widget-view+json": {
       "model_id": "0f1ba8749c6143fd80c9bc8de5340ae3",
       "version_major": 2,
       "version_minor": 0
      },
      "text/plain": [
       "  0%|          | 0/2 [00:00<?, ?it/s]"
      ]
     },
     "metadata": {},
     "output_type": "display_data"
    },
    {
     "data": {
      "application/vnd.jupyter.widget-view+json": {
       "model_id": "75bbe5e087ec4d99809d0c6eddda9b06",
       "version_major": 2,
       "version_minor": 0
      },
      "text/plain": [
       "  0%|          | 0/16 [00:00<?, ?it/s]"
      ]
     },
     "metadata": {},
     "output_type": "display_data"
    },
    {
     "data": {
      "application/vnd.jupyter.widget-view+json": {
       "model_id": "a0fdf8b234184ec1b5431e32964d8d30",
       "version_major": 2,
       "version_minor": 0
      },
      "text/plain": [
       "  0%|          | 0/361 [00:00<?, ?it/s]"
      ]
     },
     "metadata": {},
     "output_type": "display_data"
    },
    {
     "data": {
      "application/vnd.jupyter.widget-view+json": {
       "model_id": "ce8a3009a4094432b050cf888564d1ce",
       "version_major": 2,
       "version_minor": 0
      },
      "text/plain": [
       "  0%|          | 0/16 [00:00<?, ?it/s]"
      ]
     },
     "metadata": {},
     "output_type": "display_data"
    },
    {
     "data": {
      "application/vnd.jupyter.widget-view+json": {
       "model_id": "ce2f2ce427ae418baf2f91a40933dce4",
       "version_major": 2,
       "version_minor": 0
      },
      "text/plain": [
       "  0%|          | 0/361 [00:00<?, ?it/s]"
      ]
     },
     "metadata": {},
     "output_type": "display_data"
    }
   ],
   "source": [
    "nmod = 16\n",
    "beta = []\n",
    "\n",
    "for s in trange(2):\n",
    "    for t in trange(2):\n",
    "        \n",
    "        #### load training set\n",
    "        x = []\n",
    "        for i in trange(nmod):\n",
    "            xi = np.load(f'./pr_rescaled/model_{i:02}.npy', mmap_mode = 'r')\n",
    "            x.append(np.array(xi[:,(360*s):(360*(s+1) + s),(720*t):(720*(t+1))]))\n",
    "            \n",
    "        x2 = np.stack(x, axis = 3)\n",
    "        x2 = np.moveaxis(x2, (1, 2), (0, 1))\n",
    "        \n",
    "        del x\n",
    "        \n",
    "        nfit = x2.shape[2]\n",
    "        \n",
    "        y2 = rea[0:nfit,(360*s):(360*(s+1) + s),(720*t):(720*(t+1))]\n",
    "        y2 = np.moveaxis(y2, 0, 2)\n",
    "        y2 = y2.reshape(y2.shape + (1,))\n",
    "        \n",
    "        beta_st = np.zeros((360 + s, 720, 16, 1))\n",
    "\n",
    "        for i in trange(360 + s):\n",
    "            for j in range(720):\n",
    "                x = jnp.array(x2[i, j])\n",
    "                y = jnp.array(y2[i, j])\n",
    "                beta_st[i,j] = lm_beta(x, y)\n",
    "        \n",
    "        np.save(f'./pr_model_coef/beta_{i}', beta_st)"
   ]
  },
  {
   "cell_type": "code",
   "execution_count": 5,
   "metadata": {},
   "outputs": [],
   "source": [
    "for i, b in enumerate(beta):\n",
    "    np.save(f'./pr_model_coef/beta_{i}', b)"
   ]
  },
  {
   "cell_type": "code",
   "execution_count": null,
   "metadata": {},
   "outputs": [],
   "source": []
  },
  {
   "cell_type": "code",
   "execution_count": 9,
   "metadata": {},
   "outputs": [
    {
     "data": {
      "application/vnd.jupyter.widget-view+json": {
       "model_id": "5dd3864e0f1c4be8993ef00480a62b08",
       "version_major": 2,
       "version_minor": 0
      },
      "text/plain": [
       "  0%|          | 0/4 [00:00<?, ?it/s]"
      ]
     },
     "metadata": {},
     "output_type": "display_data"
    }
   ],
   "source": [
    "nmod = 16\n",
    "nval = 9\n",
    "nfit = 789\n",
    "nlat = 721\n",
    "nlon = 1440\n",
    "\n",
    "\n",
    "beta = [np.load(f'./pr_model_coef/beta_{i}.npy') for i in trange(4)]\n",
    "xrcp = pickle.load(open('../data/saved/xrcp_pr.pkl', 'rb'))\n",
    "rea = np.load('../data/saved/pr_obs.npz.npy', mmap_mode = 'r')"
   ]
  },
  {
   "cell_type": "code",
   "execution_count": 10,
   "metadata": {},
   "outputs": [],
   "source": [
    "# beta = [np.load(f'./model_coef/beta_{i}.npy') for i in trange(4)]\n",
    "beta = np.hstack([np.vstack([beta[0], beta[2]]), np.vstack([beta[1], beta[3]])])[:,:,:,0]"
   ]
  },
  {
   "cell_type": "code",
   "execution_count": null,
   "metadata": {},
   "outputs": [],
   "source": [
    "beta = [np.load(f'./pr_model_coef/beta_{i}.npy') for i in trange(4)]\n",
    "beta = np.hstack([np.vstack([beta[0], beta[2]]), np.vstack([beta[1], beta[3]])])\n",
    "beta = beta.reshape(nlat, nlon, nmod)"
   ]
  },
  {
   "cell_type": "code",
   "execution_count": null,
   "metadata": {},
   "outputs": [],
   "source": []
  },
  {
   "cell_type": "markdown",
   "metadata": {},
   "source": [
    "# LM predictions"
   ]
  },
  {
   "cell_type": "code",
   "execution_count": null,
   "metadata": {},
   "outputs": [],
   "source": [
    "lm_pred = []\n",
    "lm_predvar = []\n",
    "\n",
    "m = 0\n",
    "for s in trange(4):\n",
    "    for t in trange(4):\n",
    "        \n",
    "        leap = 0\n",
    "        if s == 3:\n",
    "            leap = 1\n",
    "        \n",
    "        #### load training set\n",
    "        xtrain = []\n",
    "        for i in trange(nmod):\n",
    "            xtrain_i = np.load(f'./pr_rescaled/model_{i:02}.npy', mmap_mode = 'r')\n",
    "            xtrain.append(np.array(xtrain_i[:,(180*s):(180*(s+1) + leap),(360*t):(360*(t+1))]))\n",
    "\n",
    "        xtrain = np.stack(xtrain, axis = 3)\n",
    "\n",
    "        xtest = []\n",
    "        for k in trange(nmod, leave = False):\n",
    "            xtest_k = xrcp[k][nval:(nval + 70)]\n",
    "            xtest_k = np.moveaxis(xtest_k, 0, 2)\n",
    "            xtest_k = resize(xtest_k, (nlat, nlon))\n",
    "            xtest_k = np.moveaxis(xtest_k, 2, 0)\n",
    "            xtest_k = xtest_k[:,(180*s):(180*(s+1) + leap),(360*t):(360*(t+1))]\n",
    "            xtest.append(xtest_k)\n",
    "\n",
    "        xtest = np.stack(xtest, axis = 3)\n",
    "\n",
    "        ### fit training to compute sigma\n",
    "        xtrain = jnp.array(xtrain)\n",
    "        xtest = jnp.array(xtest)\n",
    "        \n",
    "        beta_k = beta[(180*s):(180*(s+1) + leap),(360*t):(360*(t+1))]\n",
    "\n",
    "        yhat = np.sum(xtrain * beta_k[None,:,:,:], axis = 3)\n",
    "        ytrain = np.array(rea[0:nfit,(180*s):(180*(s+1) + leap),(360*t):(360*(t+1))])\n",
    "        \n",
    "        sigma = np.std(ytrain - yhat, axis = 0)\n",
    "\n",
    "        \n",
    "        ### compute prediction variance\n",
    "        pred_var = prediction_variance(xtrain, xtest, sigma)\n",
    "        pred_var = np.moveaxis(pred_var, (2, 1, 0), (0, 1, 2))\n",
    "        \n",
    "        lm_pred.append(yhat)\n",
    "        lm_predvar.append(pred_var)\n",
    "        \n",
    "        ### cleanup\n",
    "        m = m + 1\n",
    "        del xtrain, xtest"
   ]
  },
  {
   "cell_type": "code",
   "execution_count": null,
   "metadata": {},
   "outputs": [],
   "source": [
    "lm_pred = np.concatenate(lm_pred)\n",
    "lm_predvar = np.concatenate(lm_predvar)\n",
    "\n",
    "np.save('./pr_predictions/lm_pred', lm_pred)\n",
    "np.save('./pr_predictions/lm_predvar', lm_predvar)"
   ]
  },
  {
   "cell_type": "code",
   "execution_count": null,
   "metadata": {},
   "outputs": [],
   "source": []
  },
  {
   "cell_type": "markdown",
   "metadata": {},
   "source": [
    "# EA predictions"
   ]
  },
  {
   "cell_type": "code",
   "execution_count": null,
   "metadata": {},
   "outputs": [],
   "source": [
    "ens_pred = []\n",
    "ens_predvar = []\n",
    "for i in trange(21):\n",
    "    \n",
    "    xtest = []\n",
    "    for k in trange(16, leave = False):\n",
    "        xtest_k = xrcp[k][(i * 50):((i+1)*50)]\n",
    "        xtest_k = np.moveaxis(xtest_k, 0, 2)\n",
    "        xtest_k = resize(xtest_k, (nlat, nlon))\n",
    "        xtest_k = np.moveaxis(xtest_k, 2, 0)\n",
    "        xtest.append(xtest_k)\n",
    "\n",
    "    xtest = np.stack(xtest, axis = 3)\n",
    "    ens_pred.append(np.mean(xtest, axis = 3))\n",
    "    ens_predvar.append(np.std(xtest, axis = 3))"
   ]
  },
  {
   "cell_type": "code",
   "execution_count": null,
   "metadata": {},
   "outputs": [],
   "source": [
    "ens_pred = np.concatenate(ens_pred)\n",
    "ens_predvar = np.concatenate(ens_predvar)\n",
    "\n",
    "np.save('./pr_predictions/ens_pred', ens_pred)\n",
    "np.save('./pr_predictions/ens_predvar', ens_predvar)"
   ]
  },
  {
   "cell_type": "code",
   "execution_count": null,
   "metadata": {},
   "outputs": [],
   "source": []
  },
  {
   "cell_type": "code",
   "execution_count": null,
   "metadata": {},
   "outputs": [],
   "source": []
  }
 ],
 "metadata": {
  "kernelspec": {
   "display_name": "Python 3 (ipykernel)",
   "language": "python",
   "name": "python3"
  },
  "language_info": {
   "codemirror_mode": {
    "name": "ipython",
    "version": 3
   },
   "file_extension": ".py",
   "mimetype": "text/x-python",
   "name": "python",
   "nbconvert_exporter": "python",
   "pygments_lexer": "ipython3",
   "version": "3.9.12"
  }
 },
 "nbformat": 4,
 "nbformat_minor": 4
}
