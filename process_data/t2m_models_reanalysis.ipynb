{
 "cells": [
  {
   "cell_type": "code",
   "execution_count": 2,
   "metadata": {},
   "outputs": [],
   "source": [
    "import os\n",
    "import pickle\n",
    "\n",
    "# numpy\n",
    "import numpy as np\n",
    "import numpy.ma as ma\n",
    "\n",
    "from skimage.transform import resize\n",
    "from math import pi\n",
    "\n",
    "# plotting\n",
    "import matplotlib\n",
    "import matplotlib.pyplot as plt\n",
    "plt.style.use('default')\n",
    "\n",
    "# netCDF\n",
    "import netCDF4 as nc\n",
    "\n",
    "from tqdm.notebook import tqdm\n",
    "from tqdm.notebook import trange"
   ]
  },
  {
   "cell_type": "code",
   "execution_count": 2,
   "metadata": {},
   "outputs": [],
   "source": [
    "def get_timeperiod(f):\n",
    "    rng = f.split('_')[-1][:-3]\n",
    "    return [int(s[:-2]) for s in rng.split('-')]"
   ]
  },
  {
   "cell_type": "code",
   "execution_count": 21,
   "metadata": {},
   "outputs": [
    {
     "name": "stderr",
     "output_type": "stream",
     "text": [
      "/home/trevorh2/anaconda3/lib/python3.7/site-packages/ipykernel_launcher.py:7: DeprecationWarning: tostring() is deprecated. Use tobytes() instead.\n",
      "  import sys\n"
     ]
    },
    {
     "name": "stdout",
     "output_type": "stream",
     "text": [
      "250 km\n",
      "100 km\n",
      "100 km\n",
      "500 km\n",
      "500 km\n",
      "500 km\n",
      "100 km\n",
      "100 km\n",
      "100 km\n",
      "250 km\n",
      "250 km\n",
      "250 km\n",
      "250 km\n",
      "500 km\n",
      "500 km\n",
      "100 km\n"
     ]
    }
   ],
   "source": [
    "xhist = []\n",
    "hist_files = sorted(os.listdir('../data/hist_pr'))\n",
    "\n",
    "for f in hist_files:\n",
    "    if f[0:3] == 'pr_':\n",
    "        ncdata = nc.Dataset('../data/hist_pr/' + f, \"r\")\n",
    "        print(ncdata.nominal_resolution)"
   ]
  },
  {
   "cell_type": "code",
   "execution_count": 3,
   "metadata": {},
   "outputs": [
    {
     "name": "stdout",
     "output_type": "stream",
     "text": [
      "tas_Amon_ACCESS-CM2_historical_r1i1p1f1_gn_185001-201412.nc\n",
      "tas_Amon_BCC-CSM2-MR_historical_r1i1p1f1_gn_185001-201412.nc\n",
      "tas_Amon_CMCC-CM2-SR5_historical_r1i1p1f1_gn_185001-201412.nc\n",
      "tas_Amon_CanESM5-CanOE_historical_r1i1p2f1_gn_185001-201412.nc\n",
      "tas_Amon_CanESM5_historical_r7i1p2f1_gn_185001-201412.nc\n",
      "tas_Amon_CanESM5_historical_r8i1p2f1_gn_185001-201412.nc\n",
      "tas_Amon_FIO-ESM-2-0_historical_r1i1p1f1_gn_185001-201412.nc\n",
      "tas_Amon_GFDL-ESM4_historical_r1i1p1f1_gr1_195001-201412.nc\n",
      "tas_Amon_INM-CM5-0_historical_r5i1p1f1_gr1_195001-201412.nc\n",
      "tas_Amon_IPSL-CM6A-LR-INCA_historical_r1i1p1f1_gr_185001-201412.nc\n",
      "tas_Amon_IPSL-CM6A-LR_historical_r2i1p1f1_gr_185001-201412.nc\n",
      "tas_Amon_KACE-1-0-G_historical_r1i1p1f1_gr_185001-201412.nc\n",
      "tas_Amon_MCM-UA-1-0_historical_r1i1p1f1_gn_185001-201412.nc\n",
      "tas_Amon_MIROC-ES2L_historical_r1i1p1f2_gn_185001-201412.nc\n",
      "tas_Amon_MIROC-ES2L_historical_r6i1p1f2_gn_185001-201412.nc\n",
      "tas_Amon_MRI-ESM2-0_historical_r1i1p1f1_gn_185001-201412.nc\n",
      "CPU times: user 5.89 s, sys: 460 ms, total: 6.35 s\n",
      "Wall time: 6.33 s\n"
     ]
    }
   ],
   "source": [
    "%%time\n",
    "\n",
    "# read through each model and grab the data\n",
    "xhist = []\n",
    "hist_files = sorted(os.listdir('../data/hist_tas'))\n",
    "\n",
    "for f in hist_files:\n",
    "    if f[0:3] == 'tas':\n",
    "        ncdata = nc.Dataset('../data/hist_tas/' + f, \"r\")\n",
    "\n",
    "        tp = get_timeperiod(f)\n",
    "        n_begin = (1950 - tp[0]) * 12\n",
    "        n_end = (2015 - tp[0]) * 12\n",
    "\n",
    "        xi = ncdata.variables['tas'][n_begin:n_end]\n",
    "        xi = np.array(xi)\n",
    "        xi = np.array(xi) - 272.15\n",
    "        xi = np.rot90(xi, k = 2, axes = (1, 2))\n",
    "        xi = np.flip(xi, axis = 2)\n",
    "    \n",
    "        xhist.append(xi)\n",
    "        \n",
    "        print(f)"
   ]
  },
  {
   "cell_type": "code",
   "execution_count": 4,
   "metadata": {},
   "outputs": [
    {
     "name": "stdout",
     "output_type": "stream",
     "text": [
      "tas_Amon_ACCESS-CM2_ssp245_r1i1p1f1_gn_201501-210012.nc\n",
      "tas_Amon_BCC-CSM2-MR_ssp245_r1i1p1f1_gn_201501-210012.nc\n",
      "tas_Amon_CMCC-CM2-SR5_ssp245_r1i1p1f1_gn_201501-210012.nc\n",
      "tas_Amon_CanESM5-CanOE_ssp245_r2i1p2f1_gn_201501-210012.nc\n",
      "tas_Amon_CanESM5_ssp245_r7i1p2f1_gn_201501-210012.nc\n",
      "tas_Amon_CanESM5_ssp245_r8i1p2f1_gn_201501-210012.nc\n",
      "tas_Amon_FIO-ESM-2-0_ssp245_r1i1p1f1_gn_201501-210012.nc\n",
      "tas_Amon_GFDL-ESM4_ssp245_r1i1p1f1_gr1_201501-210012.nc\n",
      "tas_Amon_INM-CM5-0_ssp245_r1i1p1f1_gr1_201501-210012.nc\n",
      "tas_Amon_IPSL-CM6A-LR_ssp245_r1i1p1f1_gr_201501-210012.nc\n",
      "tas_Amon_IPSL-CM6A-LR_ssp245_r2i1p1f1_gr_201501-210012.nc\n",
      "tas_Amon_KACE-1-0-G_ssp245_r1i1p1f1_gr_201501-210012.nc\n",
      "tas_Amon_MCM-UA-1-0_ssp245_r1i1p1f2_gn_201501-210012.nc\n",
      "tas_Amon_MIROC-ES2L_ssp245_r1i1p1f2_gn_201501-210012.nc\n",
      "tas_Amon_MIROC-ES2L_ssp245_r6i1p1f2_gn_201501-210012.nc\n",
      "tas_Amon_MRI-ESM2-0_ssp245_r1i1p1f1_gn_201501-210012.nc\n",
      "CPU times: user 7.51 s, sys: 599 ms, total: 8.11 s\n",
      "Wall time: 8.09 s\n"
     ]
    }
   ],
   "source": [
    "%%time\n",
    "\n",
    "# read through each model and grab the data\n",
    "xrcp = []\n",
    "xrcp_files = sorted(os.listdir('../data/ssp_tas'))\n",
    "\n",
    "for f in xrcp_files:\n",
    "    if f[0:3] == 'tas':\n",
    "        ncdata = nc.Dataset('../data/ssp_tas/' + f, \"r\")\n",
    "\n",
    "        tp = get_timeperiod(f)\n",
    "#         n_begin = (1950 - tp[0]) * 12\n",
    "#         n_end = (2015 - tp[0]) * 12\n",
    "\n",
    "        xi = ncdata.variables['tas']\n",
    "        xi = np.array(xi)\n",
    "        xi = np.array(xi) - 272.15\n",
    "        xi = np.rot90(xi, k = 2, axes = (1, 2))\n",
    "        xi = np.flip(xi, axis = 2)\n",
    "    \n",
    "        xrcp.append(xi)\n",
    "        \n",
    "        print(f)"
   ]
  },
  {
   "cell_type": "code",
   "execution_count": 5,
   "metadata": {},
   "outputs": [],
   "source": [
    "pickle.dump(xhist, open( \"../data/saved/xhist_tas.pkl\", \"wb\"))\n",
    "pickle.dump(xrcp, open( \"../data/saved/xrcp_tas.pkl\", \"wb\"))"
   ]
  },
  {
   "cell_type": "code",
   "execution_count": null,
   "metadata": {},
   "outputs": [],
   "source": []
  },
  {
   "cell_type": "code",
   "execution_count": null,
   "metadata": {},
   "outputs": [],
   "source": [
    "### reanalysis"
   ]
  },
  {
   "cell_type": "code",
   "execution_count": 9,
   "metadata": {},
   "outputs": [
    {
     "name": "stdout",
     "output_type": "stream",
     "text": [
      "CPU times: user 12.5 s, sys: 3.76 s, total: 16.3 s\n",
      "Wall time: 19 s\n"
     ]
    }
   ],
   "source": [
    "%%time\n",
    "\n",
    "ncdata = nc.Dataset('../data/obs/adaptor.mars.internal-1594585293.1745586-1226-9-986377a8-506b-41ad-bbbf-320c9ecdf194.nc', \"r\")\n",
    "y = ncdata.variables['t2m']\n",
    "y = np.array(y) - 272.15\n",
    "y = y[0:(2020 - 1979)*12, 0]"
   ]
  },
  {
   "cell_type": "code",
   "execution_count": 5,
   "metadata": {},
   "outputs": [
    {
     "name": "stdout",
     "output_type": "stream",
     "text": [
      "CPU times: user 15.4 s, sys: 17.1 s, total: 32.6 s\n",
      "Wall time: 32.6 s\n"
     ]
    },
    {
     "data": {
      "text/plain": [
       "(861, 721, 1440)"
      ]
     },
     "execution_count": 5,
     "metadata": {},
     "output_type": "execute_result"
    }
   ],
   "source": [
    "%%time\n",
    "\n",
    "ncdata = nc.Dataset('../data/obs/obs_1950_1979.nc', \"r\")\n",
    "y1 = ncdata.variables['t2m']\n",
    "y1 = np.array(y1) - 272.15\n",
    "\n",
    "ncdata = nc.Dataset('../data/obs/obs_1979_2021.nc', \"r\")\n",
    "y2 = ncdata.variables['t2m']\n",
    "y2 = np.array(y2) - 272.15\n",
    "y2 = y2[:,0]\n",
    "\n",
    "y = np.vstack([y1, y2])[:859,]\n",
    "y.shape"
   ]
  },
  {
   "cell_type": "code",
   "execution_count": null,
   "metadata": {},
   "outputs": [],
   "source": [
    "np.save('../data/saved/t2m_obs', y)"
   ]
  },
  {
   "cell_type": "code",
   "execution_count": null,
   "metadata": {},
   "outputs": [],
   "source": []
  },
  {
   "cell_type": "code",
   "execution_count": 4,
   "metadata": {},
   "outputs": [
    {
     "name": "stdout",
     "output_type": "stream",
     "text": [
      "CPU times: user 17.4 s, sys: 9.76 s, total: 27.1 s\n",
      "Wall time: 27.2 s\n"
     ]
    }
   ],
   "source": [
    "# %%time\n",
    "\n",
    "# ncdata = nc.Dataset('../data/obs/obs_1950_1979.nc', \"r\")\n",
    "# y1 = ncdata.variables['t2m']\n",
    "# y1 = np.array(y1) - 272.15\n",
    "\n",
    "# ncdata = nc.Dataset('../data/obs/obs_1979_2021.nc', \"r\")\n",
    "# y2 = ncdata.variables['t2m']\n",
    "# y2 = np.array(y2) - 272.15\n",
    "# y2 = y2[:, 0]\n",
    "\n",
    "# y = np.vstack([y1, y2])\n",
    "# y.shape"
   ]
  },
  {
   "cell_type": "code",
   "execution_count": 6,
   "metadata": {},
   "outputs": [],
   "source": [
    "# np.save('../data/saved/t2m_obs', y)"
   ]
  },
  {
   "cell_type": "code",
   "execution_count": null,
   "metadata": {},
   "outputs": [],
   "source": []
  }
 ],
 "metadata": {
  "kernelspec": {
   "display_name": "Python 3 (ipykernel)",
   "language": "python",
   "name": "python3"
  },
  "language_info": {
   "codemirror_mode": {
    "name": "ipython",
    "version": 3
   },
   "file_extension": ".py",
   "mimetype": "text/x-python",
   "name": "python",
   "nbconvert_exporter": "python",
   "pygments_lexer": "ipython3",
   "version": "3.9.12"
  }
 },
 "nbformat": 4,
 "nbformat_minor": 4
}
