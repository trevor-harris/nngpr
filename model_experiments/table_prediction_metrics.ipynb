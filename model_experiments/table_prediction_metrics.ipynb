{
 "cells": [
  {
   "cell_type": "code",
   "execution_count": 1,
   "id": "graduate-warrior",
   "metadata": {},
   "outputs": [],
   "source": [
    "import os\n",
    "import gc\n",
    "import math\n",
    "\n",
    "# numpy\n",
    "import numpy as np\n",
    "import numpy.ma as ma\n",
    "\n",
    "from jax import vmap, grad, jit, random\n",
    "from jax.config import config\n",
    "# from jax.experimental import optimizers\n",
    "import jax.numpy as jnp\n",
    "from jax.tree_util import tree_map, tree_flatten, tree_unflatten, tree_leaves\n",
    "\n",
    "config.update(\"jax_enable_x64\", True)\n",
    "\n",
    "# from skimage.restoration import estimate_sigma\n",
    "from skimage.transform import resize\n",
    "\n",
    "### CRPS\n",
    "import properscoring as ps\n",
    "\n",
    "### SSIM and PSNR\n",
    "from skimage.metrics import structural_similarity as ssim\n",
    "from skimage.metrics import peak_signal_noise_ratio as psnr\n",
    "from skimage import filters\n",
    "\n",
    "# plotting\n",
    "import matplotlib\n",
    "import matplotlib.pyplot as plt\n",
    "plt.style.use('default')\n",
    "\n",
    "from matplotlib.gridspec import GridSpec\n",
    "from matplotlib import colors\n",
    "from cartopy import config\n",
    "import cartopy.crs as ccrs\n",
    "\n",
    "# netCDF\n",
    "import netCDF4 as nc\n",
    "\n",
    "from tqdm.notebook import tqdm\n",
    "from tqdm.notebook import trange\n",
    "\n",
    "import pickle"
   ]
  },
  {
   "cell_type": "code",
   "execution_count": 2,
   "id": "desirable-karaoke",
   "metadata": {},
   "outputs": [],
   "source": [
    "xhist_tas = pickle.load(open('../data/saved/xhist_tas.pkl', 'rb'))\n",
    "xrcp_tas = pickle.load(open('../data/saved/xrcp_tas.pkl', 'rb'))\n",
    "\n",
    "xhist_pr = pickle.load(open('../data/saved/xhist_pr.pkl', 'rb'))\n",
    "xrcp_pr = pickle.load(open('../data/saved/xrcp_pr.pkl', 'rb'))"
   ]
  },
  {
   "cell_type": "code",
   "execution_count": 3,
   "id": "atmospheric-announcement",
   "metadata": {},
   "outputs": [],
   "source": [
    "nval = 72\n",
    "nmod = len(xhist_tas)"
   ]
  },
  {
   "cell_type": "code",
   "execution_count": 4,
   "id": "exempt-spirituality",
   "metadata": {},
   "outputs": [
    {
     "data": {
      "application/vnd.jupyter.widget-view+json": {
       "model_id": "8092f7bff8c34abf97fff6dcd417df27",
       "version_major": 2,
       "version_minor": 0
      },
      "text/plain": [
       "  0%|          | 0/16 [00:00<?, ?it/s]"
      ]
     },
     "metadata": {},
     "output_type": "display_data"
    },
    {
     "data": {
      "application/vnd.jupyter.widget-view+json": {
       "model_id": "f0164706fe064e90b24cbe47a33b2212",
       "version_major": 2,
       "version_minor": 0
      },
      "text/plain": [
       "  0%|          | 0/16 [00:00<?, ?it/s]"
      ]
     },
     "metadata": {},
     "output_type": "display_data"
    },
    {
     "data": {
      "application/vnd.jupyter.widget-view+json": {
       "model_id": "f070ed64ecd74fd0a19a974509a91793",
       "version_major": 2,
       "version_minor": 0
      },
      "text/plain": [
       "  0%|          | 0/16 [00:00<?, ?it/s]"
      ]
     },
     "metadata": {},
     "output_type": "display_data"
    },
    {
     "data": {
      "application/vnd.jupyter.widget-view+json": {
       "model_id": "e0b44b49df1c4d068da711296850ffe2",
       "version_major": 2,
       "version_minor": 0
      },
      "text/plain": [
       "  0%|          | 0/16 [00:00<?, ?it/s]"
      ]
     },
     "metadata": {},
     "output_type": "display_data"
    },
    {
     "data": {
      "application/vnd.jupyter.widget-view+json": {
       "model_id": "01fa9a644e64496faaaf8a608e1b3e83",
       "version_major": 2,
       "version_minor": 0
      },
      "text/plain": [
       "  0%|          | 0/16 [00:00<?, ?it/s]"
      ]
     },
     "metadata": {},
     "output_type": "display_data"
    },
    {
     "data": {
      "application/vnd.jupyter.widget-view+json": {
       "model_id": "06cd10431fcc4d70b65b41d735bc022b",
       "version_major": 2,
       "version_minor": 0
      },
      "text/plain": [
       "  0%|          | 0/16 [00:00<?, ?it/s]"
      ]
     },
     "metadata": {},
     "output_type": "display_data"
    },
    {
     "data": {
      "application/vnd.jupyter.widget-view+json": {
       "model_id": "8e4c17be77474b99ad34722577923c12",
       "version_major": 2,
       "version_minor": 0
      },
      "text/plain": [
       "  0%|          | 0/16 [00:00<?, ?it/s]"
      ]
     },
     "metadata": {},
     "output_type": "display_data"
    },
    {
     "data": {
      "application/vnd.jupyter.widget-view+json": {
       "model_id": "f6b3a131603240178c3a94e3e216286d",
       "version_major": 2,
       "version_minor": 0
      },
      "text/plain": [
       "  0%|          | 0/16 [00:00<?, ?it/s]"
      ]
     },
     "metadata": {},
     "output_type": "display_data"
    },
    {
     "data": {
      "application/vnd.jupyter.widget-view+json": {
       "model_id": "4bcb1e4e5e724baeba787aa52c993515",
       "version_major": 2,
       "version_minor": 0
      },
      "text/plain": [
       "  0%|          | 0/16 [00:00<?, ?it/s]"
      ]
     },
     "metadata": {},
     "output_type": "display_data"
    },
    {
     "data": {
      "application/vnd.jupyter.widget-view+json": {
       "model_id": "65f619e17dae441d8bcd10390c23a62a",
       "version_major": 2,
       "version_minor": 0
      },
      "text/plain": [
       "  0%|          | 0/16 [00:00<?, ?it/s]"
      ]
     },
     "metadata": {},
     "output_type": "display_data"
    },
    {
     "data": {
      "application/vnd.jupyter.widget-view+json": {
       "model_id": "20d76731c6f440b295e63b173edb2bbb",
       "version_major": 2,
       "version_minor": 0
      },
      "text/plain": [
       "  0%|          | 0/16 [00:00<?, ?it/s]"
      ]
     },
     "metadata": {},
     "output_type": "display_data"
    },
    {
     "data": {
      "application/vnd.jupyter.widget-view+json": {
       "model_id": "d589c58e33434906b348f50ba3852a9e",
       "version_major": 2,
       "version_minor": 0
      },
      "text/plain": [
       "  0%|          | 0/16 [00:00<?, ?it/s]"
      ]
     },
     "metadata": {},
     "output_type": "display_data"
    },
    {
     "data": {
      "application/vnd.jupyter.widget-view+json": {
       "model_id": "81b5c27fa78e4da599c46bd07b874c86",
       "version_major": 2,
       "version_minor": 0
      },
      "text/plain": [
       "  0%|          | 0/16 [00:00<?, ?it/s]"
      ]
     },
     "metadata": {},
     "output_type": "display_data"
    },
    {
     "data": {
      "application/vnd.jupyter.widget-view+json": {
       "model_id": "78945fde19e34f4b81efd130c0ede532",
       "version_major": 2,
       "version_minor": 0
      },
      "text/plain": [
       "  0%|          | 0/16 [00:00<?, ?it/s]"
      ]
     },
     "metadata": {},
     "output_type": "display_data"
    },
    {
     "data": {
      "application/vnd.jupyter.widget-view+json": {
       "model_id": "e9c7dafe5db44ee8a42eaffa7ca738ce",
       "version_major": 2,
       "version_minor": 0
      },
      "text/plain": [
       "  0%|          | 0/16 [00:00<?, ?it/s]"
      ]
     },
     "metadata": {},
     "output_type": "display_data"
    },
    {
     "data": {
      "application/vnd.jupyter.widget-view+json": {
       "model_id": "09e528486a1045699a18b12593891336",
       "version_major": 2,
       "version_minor": 0
      },
      "text/plain": [
       "  0%|          | 0/16 [00:00<?, ?it/s]"
      ]
     },
     "metadata": {},
     "output_type": "display_data"
    }
   ],
   "source": [
    "sgpr_tas = [np.load(f'tas_predictions/sgpr_tas_{m}.npz.npy') for m in trange(nmod)]\n",
    "xreg_tas = [np.load(f'tas_predictions/xreg_tas_{m}.npz.npy') for m in trange(nmod)]\n",
    "xbar_tas = [np.load(f'tas_predictions/xbar_tas_{m}.npz.npy') for m in trange(nmod)]\n",
    "xwea_tas = [np.load(f'tas_predictions/xwea_tas_{m}.npz.npy') for m in trange(nmod)]\n",
    "gpse_tas = [np.load(f'tas_predictions/gpr_se_tas_{m}.npz.npy') for m in trange(nmod)]\n",
    "gpex_tas = [np.load(f'tas_predictions/gpr_exp_tas_{m}.npz.npy') for m in trange(nmod)]\n",
    "dcnn_tas = [np.load(f'tas_predictions/cnn_tas_{m}.npz.npy') for m in trange(nmod)]\n",
    "delt_tas = [np.load(f'tas_predictions/del_tas_{m}.npz.npy') for m in trange(nmod)]\n",
    "\n",
    "sgpr_pr = [np.load(f'pr_predictions/sgpr_pr_{m}.npz.npy') for m in trange(nmod)]\n",
    "xreg_pr = [np.load(f'pr_predictions/xreg_pr_{m}.npz.npy') for m in trange(nmod)]\n",
    "xbar_pr = [np.load(f'pr_predictions/xbar_pr_{m}.npz.npy') for m in trange(nmod)]\n",
    "xwea_pr = [np.load(f'pr_predictions/xwea_pr_{m}.npz.npy') for m in trange(nmod)]\n",
    "gpse_pr = [np.load(f'pr_predictions/gpr_se_pr_{m}.npz.npy') for m in trange(nmod)]\n",
    "gpex_pr = [np.load(f'pr_predictions/gpr_exp_pr_{m}.npz.npy') for m in trange(nmod)]\n",
    "dcnn_pr = [np.load(f'pr_predictions/cnn_pr_{m}.npz.npy') for m in trange(nmod)]\n",
    "delt_pr = [np.load(f'pr_predictions/del_pr_{m}.npz.npy') for m in trange(nmod)]"
   ]
  },
  {
   "cell_type": "code",
   "execution_count": 6,
   "id": "preceding-bathroom",
   "metadata": {},
   "outputs": [],
   "source": [
    "ntest = sgpr_tas[0].shape[0] + nval"
   ]
  },
  {
   "cell_type": "code",
   "execution_count": 7,
   "id": "answering-consolidation",
   "metadata": {},
   "outputs": [],
   "source": [
    "months = 12 * 10\n",
    "decades = int((ntest-nval)/(months))"
   ]
  },
  {
   "cell_type": "code",
   "execution_count": 8,
   "id": "green-bunny",
   "metadata": {},
   "outputs": [
    {
     "data": {
      "application/vnd.jupyter.widget-view+json": {
       "model_id": "9fa2686e219f49ffa409f73a79f6f071",
       "version_major": 2,
       "version_minor": 0
      },
      "text/plain": [
       "  0%|          | 0/16 [00:00<?, ?it/s]"
      ]
     },
     "metadata": {},
     "output_type": "display_data"
    }
   ],
   "source": [
    "sgpr_mse_tas = np.zeros((decades, nmod))\n",
    "xreg_mse_tas = np.zeros((decades, nmod))\n",
    "xwea_mse_tas = np.zeros((decades, nmod))\n",
    "xbar_mse_tas = np.zeros((decades, nmod))\n",
    "gpse_mse_tas = np.zeros((decades, nmod))\n",
    "gpex_mse_tas = np.zeros((decades, nmod))\n",
    "dcnn_mse_tas = np.zeros((decades, nmod))\n",
    "delt_mse_tas = np.zeros((decades, nmod))\n",
    "\n",
    "sgpr_mse_pr = np.zeros((decades, nmod))\n",
    "xreg_mse_pr = np.zeros((decades, nmod))\n",
    "xwea_mse_pr = np.zeros((decades, nmod))\n",
    "xbar_mse_pr = np.zeros((decades, nmod))\n",
    "gpse_mse_pr = np.zeros((decades, nmod))\n",
    "gpex_mse_pr = np.zeros((decades, nmod))\n",
    "dcnn_mse_pr = np.zeros((decades, nmod))\n",
    "delt_mse_pr = np.zeros((decades, nmod))\n",
    "\n",
    "sgpr_ssim_tas = np.zeros((decades, nmod))\n",
    "xreg_ssim_tas = np.zeros((decades, nmod))\n",
    "xwea_ssim_tas = np.zeros((decades, nmod))\n",
    "xbar_ssim_tas = np.zeros((decades, nmod))\n",
    "gpse_ssim_tas = np.zeros((decades, nmod))\n",
    "gpex_ssim_tas = np.zeros((decades, nmod))\n",
    "dcnn_ssim_tas = np.zeros((decades, nmod))\n",
    "delt_ssim_tas = np.zeros((decades, nmod))\n",
    "\n",
    "sgpr_ssim_pr = np.zeros((decades, nmod))\n",
    "xreg_ssim_pr = np.zeros((decades, nmod))\n",
    "xwea_ssim_pr = np.zeros((decades, nmod))\n",
    "xbar_ssim_pr = np.zeros((decades, nmod))\n",
    "gpse_ssim_pr = np.zeros((decades, nmod))\n",
    "gpex_ssim_pr = np.zeros((decades, nmod))\n",
    "dcnn_ssim_pr = np.zeros((decades, nmod))\n",
    "delt_ssim_pr = np.zeros((decades, nmod))\n",
    "\n",
    "for m1 in trange(nmod):\n",
    "    ytest_tas = np.array(xrcp_tas[m1])[nval:ntest]\n",
    "    ytest_pr = np.array(xrcp_pr[m1])[nval:ntest]\n",
    "    \n",
    "    nlat = ytest_tas.shape[1]\n",
    "    scale = np.cos(np.linspace(math.pi/2, -math.pi/2, nlat))\n",
    "    \n",
    "    for d in range(decades):\n",
    "        \n",
    "        ytest_dec = ytest_tas[(months*d):(months*(d+1))].astype('float32') * scale[None,:,None]\n",
    "        \n",
    "        sgpr_dec = sgpr_tas[m1][(months*d):(months*(d+1))].astype('float32') * scale[None,:,None]\n",
    "        xreg_dec = xreg_tas[m1][(months*d):(months*(d+1))].astype('float32') * scale[None,:,None]\n",
    "        xwea_dec = xwea_tas[m1][(months*d):(months*(d+1))].astype('float32') * scale[None,:,None]\n",
    "        xbar_dec = xbar_tas[m1][(months*d):(months*(d+1))].astype('float32') * scale[None,:,None]\n",
    "        gpse_dec = gpse_tas[m1][(months*d):(months*(d+1))].astype('float32') * scale[None,:,None]\n",
    "        gpex_dec = gpex_tas[m1][(months*d):(months*(d+1))].astype('float32') * scale[None,:,None]\n",
    "        dcnn_dec = dcnn_tas[m1][(months*d):(months*(d+1))].astype('float32') * scale[None,:,None]\n",
    "        delt_dec = delt_tas[m1][(months*d):(months*(d+1))].astype('float32') * scale[None,:,None]\n",
    "        \n",
    "        sgpr_mse_tas[d, m1] = np.mean((sgpr_dec - ytest_dec)**2)\n",
    "        xreg_mse_tas[d, m1] = np.mean((xreg_dec - ytest_dec)**2)\n",
    "        xwea_mse_tas[d, m1] = np.mean((xwea_dec - ytest_dec)**2)\n",
    "        xbar_mse_tas[d, m1] = np.mean((xbar_dec - ytest_dec)**2)\n",
    "        gpse_mse_tas[d, m1] = np.mean((gpse_dec - ytest_dec)**2)\n",
    "        gpex_mse_tas[d, m1] = np.mean((gpex_dec - ytest_dec)**2)\n",
    "        dcnn_mse_tas[d, m1] = np.mean((dcnn_dec - ytest_dec)**2)\n",
    "        delt_mse_tas[d, m1] = np.mean((delt_dec - ytest_dec)**2)\n",
    "        \n",
    "        sgpr_ssim_tas[d, m1] = ssim(sgpr_dec, ytest_dec)\n",
    "        xreg_ssim_tas[d, m1] = ssim(xreg_dec, ytest_dec)\n",
    "        xwea_ssim_tas[d, m1] = ssim(xwea_dec, ytest_dec)\n",
    "        xbar_ssim_tas[d, m1] = ssim(xbar_dec, ytest_dec)\n",
    "        gpse_ssim_tas[d, m1] = ssim(gpse_dec, ytest_dec)\n",
    "        gpex_ssim_tas[d, m1] = ssim(gpex_dec, ytest_dec)\n",
    "        dcnn_ssim_tas[d, m1] = ssim(dcnn_dec, ytest_dec)\n",
    "        delt_ssim_tas[d, m1] = ssim(delt_dec, ytest_dec)\n",
    "\n",
    "\n",
    "        ytest_dec = ytest_pr[(months*d):(months*(d+1))].astype('float32') * scale[None,:,None]\n",
    "\n",
    "        sgpr_dec = sgpr_pr[m1][(months*d):(months*(d+1))].astype('float32') * scale[None,:,None]\n",
    "        xreg_dec = xreg_pr[m1][(months*d):(months*(d+1))].astype('float32') * scale[None,:,None]\n",
    "        xwea_dec = xwea_pr[m1][(months*d):(months*(d+1))].astype('float32') * scale[None,:,None]\n",
    "        xbar_dec = xbar_pr[m1][(months*d):(months*(d+1))].astype('float32') * scale[None,:,None]\n",
    "        gpse_dec = gpse_pr[m1][(months*d):(months*(d+1))].astype('float32') * scale[None,:,None]\n",
    "        gpex_dec = gpex_pr[m1][(months*d):(months*(d+1))].astype('float32') * scale[None,:,None]\n",
    "        dcnn_dec = dcnn_pr[m1][(months*d):(months*(d+1))].astype('float32') * scale[None,:,None]\n",
    "        delt_dec = delt_pr[m1][(months*d):(months*(d+1))].astype('float32') * scale[None,:,None]\n",
    "        \n",
    "        sgpr_mse_pr[d, m1] = np.mean((sgpr_dec - ytest_dec)**2)\n",
    "        xreg_mse_pr[d, m1] = np.mean((xreg_dec - ytest_dec)**2)\n",
    "        xwea_mse_pr[d, m1] = np.mean((xwea_dec - ytest_dec)**2)\n",
    "        xbar_mse_pr[d, m1] = np.mean((xbar_dec - ytest_dec)**2)\n",
    "        gpse_mse_pr[d, m1] = np.mean((gpse_dec - ytest_dec)**2)\n",
    "        gpex_mse_pr[d, m1] = np.mean((gpex_dec - ytest_dec)**2)\n",
    "        dcnn_mse_pr[d, m1] = np.mean((dcnn_dec - ytest_dec)**2)\n",
    "        delt_mse_pr[d, m1] = np.mean((delt_dec - ytest_dec)**2)\n",
    "        \n",
    "        sgpr_ssim_pr[d, m1] = ssim(sgpr_dec, ytest_dec)\n",
    "        xreg_ssim_pr[d, m1] = ssim(xreg_dec, ytest_dec)\n",
    "        xwea_ssim_pr[d, m1] = ssim(xwea_dec, ytest_dec)\n",
    "        xbar_ssim_pr[d, m1] = ssim(xbar_dec, ytest_dec)\n",
    "        gpse_ssim_pr[d, m1] = ssim(gpse_dec, ytest_dec)\n",
    "        gpex_ssim_pr[d, m1] = ssim(gpex_dec, ytest_dec)\n",
    "        dcnn_ssim_pr[d, m1] = ssim(dcnn_dec, ytest_dec)\n",
    "        delt_ssim_pr[d, m1] = ssim(delt_dec, ytest_dec)"
   ]
  },
  {
   "cell_type": "code",
   "execution_count": 12,
   "id": "smart-buyer",
   "metadata": {},
   "outputs": [
    {
     "name": "stdout",
     "output_type": "stream",
     "text": [
      "\\begin{tabular}{ccccccccccccccccc}\n",
      "\\toprule\n",
      "    &  NN-GPR  &  REG  &  WEA  &  EA  &  GPSE  &  GPEX  &  CNN  &  DELT  &  NN-GPR  &  REG  &  WEA  &  EA  &  GPSE  &  GPEX  &  CNN  &  DELT  \\\\\n",
      "\\midrule\n",
      " 1  &   0.66   &  0.8  & 1.23  & 2.1  &  0.68  &  0.66  & 1.03  &  1.06  &   0.93   & 0.92  & 0.89  & 0.84 &  0.92  &  0.93  &  0.9  &  0.9   \\\\\n",
      " 2  &   0.69   &  0.8  & 1.24  & 2.08 &  0.73  &  0.71  & 1.02  &  1.06  &   0.93   & 0.91  & 0.89  & 0.84 &  0.92  &  0.92  &  0.9  &  0.9   \\\\\n",
      " 3  &   0.73   & 0.82  & 1.28  & 2.11 &  0.85  &  0.8   & 1.03  &  1.1   &   0.92   & 0.91  & 0.89  & 0.84 &  0.91  &  0.91  &  0.9  &  0.89  \\\\\n",
      " 4  &   0.8    & 0.88  & 1.33  & 2.15 &   1    &  0.93  & 1.09  &  1.16  &   0.91   & 0.91  & 0.88  & 0.84 &  0.9   &  0.91  & 0.89  &  0.89  \\\\\n",
      " 5  &   0.84   &  0.9  & 1.34  & 2.15 &  1.15  &  1.05  &  1.1  &  1.16  &   0.91   &  0.9  & 0.88  & 0.84 &  0.89  &  0.9   & 0.89  &  0.89  \\\\\n",
      " 6  &   0.89   & 0.91  & 1.36  & 2.16 &  1.33  &  1.16  &  1.1  &  1.18  &   0.9    &  0.9  & 0.88  & 0.83 &  0.88  &  0.89  & 0.89  &  0.88  \\\\\n",
      " 7  &   0.95   & 0.93  & 1.37  & 2.15 &  1.51  &  1.3   & 1.12  &  1.2   &   0.9    &  0.9  & 0.88  & 0.83 &  0.87  &  0.88  & 0.89  &  0.88  \\\\\n",
      " 8  &    1     & 0.96  & 1.39  & 2.16 &  1.68  &  1.4   & 1.15  &  1.23  &   0.89   &  0.9  & 0.88  & 0.83 &  0.86  &  0.88  & 0.89  &  0.88  \\\\\n",
      "\\bottomrule\n",
      "\\end{tabular}\n",
      "\\begin{tabular}{ccccccccccccccccc}\n",
      "\\toprule\n",
      "    &  NN-GPR  &  REG  &  WEA  &  EA  &  GPSE  &  GPEX  &  CNN  &  DELT  &  NN-GPR  &  REG  &  WEA  &  EA  &  GPSE  &  GPEX  &  CNN  &  DELT  \\\\\n",
      "\\midrule\n",
      " 1  &   2.25   & 2.59  & 2.92  & 3.45 &  2.27  &  2.26  & 2.76  &  3.04  &   0.64   & 0.61  & 0.56  & 0.54 &  0.64  &  0.64  & 0.58  &  0.57  \\\\\n",
      " 2  &   2.33   & 2.69  & 3.02  & 3.57 &  2.36  &  2.34  & 2.86  &  3.14  &   0.64   &  0.6  & 0.56  & 0.54 &  0.63  &  0.63  & 0.57  &  0.57  \\\\\n",
      " 3  &   2.37   & 2.72  & 3.07  & 3.63 &  2.39  &  2.38  & 2.89  &  3.19  &   0.63   &  0.6  & 0.56  & 0.54 &  0.63  &  0.63  & 0.57  &  0.57  \\\\\n",
      " 4  &   2.51   & 2.84  &  3.2  & 3.74 &  2.54  &  2.53  & 3.02  &  3.31  &   0.63   &  0.6  & 0.56  & 0.54 &  0.62  &  0.62  & 0.57  &  0.57  \\\\\n",
      " 5  &   2.62   & 2.94  & 3.28  & 3.84 &  2.65  &  2.64  & 3.14  &  3.39  &   0.62   &  0.6  & 0.55  & 0.54 &  0.61  &  0.61  & 0.56  &  0.57  \\\\\n",
      " 6  &   2.69   & 2.99  & 3.32  & 3.89 &  2.72  &  2.71  & 3.18  &  3.45  &   0.62   & 0.59  & 0.55  & 0.53 &  0.61  &  0.61  & 0.56  &  0.56  \\\\\n",
      " 7  &   2.75   & 3.04  & 3.39  & 3.97 &  2.78  &  2.77  & 3.23  &  3.53  &   0.61   & 0.59  & 0.55  & 0.53 &  0.6   &  0.6   & 0.56  &  0.56  \\\\\n",
      " 8  &   2.84   & 3.11  & 3.44  &  4   &  2.86  &  2.85  & 3.32  &  3.58  &   0.61   & 0.59  & 0.55  & 0.53 &  0.6   &  0.6   & 0.56  &  0.56  \\\\\n",
      "\\bottomrule\n",
      "\\end{tabular}\n"
     ]
    }
   ],
   "source": [
    "from tabulate import tabulate\n",
    "\n",
    "tas_metrics = np.array([np.arange(1, 9),\n",
    "          np.mean(sgpr_mse_tas, axis = 1),\n",
    "          np.mean(xreg_mse_tas, axis = 1),\n",
    "          np.mean(xwea_mse_tas, axis = 1),\n",
    "          np.mean(xbar_mse_tas, axis = 1),\n",
    "          np.mean(gpse_mse_tas, axis = 1),\n",
    "          np.mean(gpex_mse_tas, axis = 1),\n",
    "          np.mean(dcnn_mse_tas, axis = 1),\n",
    "          np.mean(delt_mse_tas, axis = 1),\n",
    "          np.mean(sgpr_ssim_tas, axis = 1),\n",
    "          np.mean(xreg_ssim_tas, axis = 1),\n",
    "          np.mean(xwea_ssim_tas, axis = 1),\n",
    "          np.mean(xbar_ssim_tas, axis = 1),\n",
    "          np.mean(gpse_ssim_tas, axis = 1),\n",
    "          np.mean(gpex_ssim_tas, axis = 1),\n",
    "          np.mean(dcnn_ssim_tas, axis = 1),\n",
    "          np.mean(delt_ssim_tas, axis = 1)]).T\n",
    "\n",
    "pr_metrics = np.array([np.arange(1, 9),\n",
    "          np.mean(sgpr_mse_pr, axis = 1),\n",
    "          np.mean(xreg_mse_pr, axis = 1),\n",
    "          np.mean(xwea_mse_pr, axis = 1),\n",
    "          np.mean(xbar_mse_pr, axis = 1),\n",
    "          np.mean(gpse_mse_pr, axis = 1),\n",
    "          np.mean(gpex_mse_pr, axis = 1),\n",
    "          np.mean(dcnn_mse_pr, axis = 1),\n",
    "          np.mean(delt_mse_pr, axis = 1),\n",
    "          np.mean(sgpr_ssim_pr, axis = 1),\n",
    "          np.mean(xreg_ssim_pr, axis = 1),\n",
    "          np.mean(xwea_ssim_pr, axis = 1),\n",
    "          np.mean(xbar_ssim_pr, axis = 1),\n",
    "          np.mean(gpse_ssim_pr, axis = 1),\n",
    "          np.mean(gpex_ssim_pr, axis = 1),\n",
    "          np.mean(dcnn_ssim_pr, axis = 1),\n",
    "          np.mean(delt_ssim_pr, axis = 1)]).T\n",
    "\n",
    "print(tabulate(np.round(tas_metrics, 2),\n",
    "               numalign = 'center',\n",
    "               headers = ['NN-GPR', 'REG', 'WEA', 'EA', 'GPSE', 'GPEX', 'CNN', 'DELT'] * 2,\n",
    "               tablefmt = \"latex_booktabs\"))\n",
    "\n",
    "print(tabulate(np.round(pr_metrics, 2),\n",
    "               numalign = 'center',\n",
    "               headers = ['NN-GPR', 'REG', 'WEA', 'EA', 'GPSE', 'GPEX', 'CNN', 'DELT'] * 2,\n",
    "               tablefmt = \"latex_booktabs\"))"
   ]
  }
 ],
 "metadata": {
  "kernelspec": {
   "display_name": "Python 3 (ipykernel)",
   "language": "python",
   "name": "python3"
  },
  "language_info": {
   "codemirror_mode": {
    "name": "ipython",
    "version": 3
   },
   "file_extension": ".py",
   "mimetype": "text/x-python",
   "name": "python",
   "nbconvert_exporter": "python",
   "pygments_lexer": "ipython3",
   "version": "3.9.12"
  }
 },
 "nbformat": 4,
 "nbformat_minor": 5
}
