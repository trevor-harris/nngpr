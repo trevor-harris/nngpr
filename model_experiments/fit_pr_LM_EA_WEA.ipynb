{
 "cells": [
  {
   "cell_type": "code",
   "execution_count": 1,
   "id": "graduate-warrior",
   "metadata": {},
   "outputs": [],
   "source": [
    "import os\n",
    "import gc\n",
    "import math\n",
    "\n",
    "# numpy\n",
    "import numpy as np\n",
    "import numpy.ma as ma\n",
    "\n",
    "from jax import vmap, grad, jit, random\n",
    "from jax.config import config\n",
    "from jax.experimental import optimizers\n",
    "import jax.numpy as jnp\n",
    "from jax.tree_util import tree_map, tree_flatten, tree_unflatten, tree_leaves\n",
    "\n",
    "config.update(\"jax_enable_x64\", True)\n",
    "\n",
    "from skimage.restoration import estimate_sigma\n",
    "from skimage.transform import resize\n",
    "\n",
    "# netCDF\n",
    "import netCDF4 as nc\n",
    "\n",
    "from tqdm.notebook import tqdm\n",
    "from tqdm.notebook import trange\n",
    "\n",
    "import pickle"
   ]
  },
  {
   "cell_type": "code",
   "execution_count": 5,
   "id": "desirable-karaoke",
   "metadata": {},
   "outputs": [],
   "source": [
    "xhist = pickle.load(open('../submit/data/saved/xhist_pr.pkl', 'rb'))\n",
    "xrcp = pickle.load(open('../submit/data/saved/xrcp_pr.pkl', 'rb'))"
   ]
  },
  {
   "cell_type": "code",
   "execution_count": 6,
   "id": "powerful-projection",
   "metadata": {},
   "outputs": [],
   "source": [
    "nval = 72\n",
    "nmod = len(xhist)"
   ]
  },
  {
   "cell_type": "code",
   "execution_count": 7,
   "id": "fitted-microphone",
   "metadata": {},
   "outputs": [],
   "source": [
    "def lr_pred(xtrain, ytrain):\n",
    "    x_inv = jnp.linalg.inv(jnp.matmul(xtrain.T, xtrain))\n",
    "    beta = jnp.matmul(jnp.matmul(x_inv, xtrain.T), ytrain)\n",
    "    return beta\n",
    "\n",
    "def lr_pred_error(xtrain, yhat_train, ytrain, xtest):\n",
    "    x_inv = jnp.linalg.inv(jnp.matmul(xtrain.T, xtrain))\n",
    "    x_scale = jnp.sqrt(1 + jnp.diag(jnp.matmul(jnp.matmul(xtest, x_inv), xtest.T)))\n",
    "    return jnp.std(ytrain - yhat_train) * x_scale\n",
    "\n",
    "lr_pred = jit(vmap(lr_pred, in_axes = (0, 0)))\n",
    "pred_error = jit(vmap(lr_pred_error, in_axes = (0, 0, 0, 0)))"
   ]
  },
  {
   "cell_type": "code",
   "execution_count": 14,
   "id": "ongoing-pressing",
   "metadata": {},
   "outputs": [
    {
     "data": {
      "application/vnd.jupyter.widget-view+json": {
       "model_id": "3df8f7d5af4b4710b284903939563f1f",
       "version_major": 2,
       "version_minor": 0
      },
      "text/plain": [
       "  0%|          | 0/9 [00:00<?, ?it/s]"
      ]
     },
     "metadata": {},
     "output_type": "display_data"
    },
    {
     "data": {
      "application/vnd.jupyter.widget-view+json": {
       "model_id": "",
       "version_major": 2,
       "version_minor": 0
      },
      "text/plain": [
       "  0%|          | 0/16 [00:00<?, ?it/s]"
      ]
     },
     "metadata": {},
     "output_type": "display_data"
    },
    {
     "data": {
      "application/vnd.jupyter.widget-view+json": {
       "model_id": "",
       "version_major": 2,
       "version_minor": 0
      },
      "text/plain": [
       "  0%|          | 0/10 [00:00<?, ?it/s]"
      ]
     },
     "metadata": {},
     "output_type": "display_data"
    },
    {
     "data": {
      "application/vnd.jupyter.widget-view+json": {
       "model_id": "",
       "version_major": 2,
       "version_minor": 0
      },
      "text/plain": [
       "  0%|          | 0/16 [00:00<?, ?it/s]"
      ]
     },
     "metadata": {},
     "output_type": "display_data"
    },
    {
     "data": {
      "application/vnd.jupyter.widget-view+json": {
       "model_id": "",
       "version_major": 2,
       "version_minor": 0
      },
      "text/plain": [
       "  0%|          | 0/10 [00:00<?, ?it/s]"
      ]
     },
     "metadata": {},
     "output_type": "display_data"
    },
    {
     "data": {
      "application/vnd.jupyter.widget-view+json": {
       "model_id": "",
       "version_major": 2,
       "version_minor": 0
      },
      "text/plain": [
       "  0%|          | 0/16 [00:00<?, ?it/s]"
      ]
     },
     "metadata": {},
     "output_type": "display_data"
    },
    {
     "data": {
      "application/vnd.jupyter.widget-view+json": {
       "model_id": "",
       "version_major": 2,
       "version_minor": 0
      },
      "text/plain": [
       "  0%|          | 0/10 [00:00<?, ?it/s]"
      ]
     },
     "metadata": {},
     "output_type": "display_data"
    },
    {
     "data": {
      "application/vnd.jupyter.widget-view+json": {
       "model_id": "",
       "version_major": 2,
       "version_minor": 0
      },
      "text/plain": [
       "  0%|          | 0/16 [00:00<?, ?it/s]"
      ]
     },
     "metadata": {},
     "output_type": "display_data"
    },
    {
     "data": {
      "application/vnd.jupyter.widget-view+json": {
       "model_id": "",
       "version_major": 2,
       "version_minor": 0
      },
      "text/plain": [
       "  0%|          | 0/10 [00:00<?, ?it/s]"
      ]
     },
     "metadata": {},
     "output_type": "display_data"
    },
    {
     "data": {
      "application/vnd.jupyter.widget-view+json": {
       "model_id": "",
       "version_major": 2,
       "version_minor": 0
      },
      "text/plain": [
       "  0%|          | 0/16 [00:00<?, ?it/s]"
      ]
     },
     "metadata": {},
     "output_type": "display_data"
    },
    {
     "data": {
      "application/vnd.jupyter.widget-view+json": {
       "model_id": "",
       "version_major": 2,
       "version_minor": 0
      },
      "text/plain": [
       "  0%|          | 0/10 [00:00<?, ?it/s]"
      ]
     },
     "metadata": {},
     "output_type": "display_data"
    },
    {
     "data": {
      "application/vnd.jupyter.widget-view+json": {
       "model_id": "",
       "version_major": 2,
       "version_minor": 0
      },
      "text/plain": [
       "  0%|          | 0/16 [00:00<?, ?it/s]"
      ]
     },
     "metadata": {},
     "output_type": "display_data"
    },
    {
     "data": {
      "application/vnd.jupyter.widget-view+json": {
       "model_id": "",
       "version_major": 2,
       "version_minor": 0
      },
      "text/plain": [
       "  0%|          | 0/10 [00:00<?, ?it/s]"
      ]
     },
     "metadata": {},
     "output_type": "display_data"
    },
    {
     "data": {
      "application/vnd.jupyter.widget-view+json": {
       "model_id": "",
       "version_major": 2,
       "version_minor": 0
      },
      "text/plain": [
       "  0%|          | 0/16 [00:00<?, ?it/s]"
      ]
     },
     "metadata": {},
     "output_type": "display_data"
    },
    {
     "data": {
      "application/vnd.jupyter.widget-view+json": {
       "model_id": "",
       "version_major": 2,
       "version_minor": 0
      },
      "text/plain": [
       "  0%|          | 0/10 [00:00<?, ?it/s]"
      ]
     },
     "metadata": {},
     "output_type": "display_data"
    },
    {
     "data": {
      "application/vnd.jupyter.widget-view+json": {
       "model_id": "",
       "version_major": 2,
       "version_minor": 0
      },
      "text/plain": [
       "  0%|          | 0/16 [00:00<?, ?it/s]"
      ]
     },
     "metadata": {},
     "output_type": "display_data"
    },
    {
     "data": {
      "application/vnd.jupyter.widget-view+json": {
       "model_id": "",
       "version_major": 2,
       "version_minor": 0
      },
      "text/plain": [
       "  0%|          | 0/10 [00:00<?, ?it/s]"
      ]
     },
     "metadata": {},
     "output_type": "display_data"
    },
    {
     "data": {
      "application/vnd.jupyter.widget-view+json": {
       "model_id": "",
       "version_major": 2,
       "version_minor": 0
      },
      "text/plain": [
       "  0%|          | 0/16 [00:00<?, ?it/s]"
      ]
     },
     "metadata": {},
     "output_type": "display_data"
    },
    {
     "data": {
      "application/vnd.jupyter.widget-view+json": {
       "model_id": "",
       "version_major": 2,
       "version_minor": 0
      },
      "text/plain": [
       "  0%|          | 0/10 [00:00<?, ?it/s]"
      ]
     },
     "metadata": {},
     "output_type": "display_data"
    }
   ],
   "source": [
    "nmod = len(xhist)\n",
    "xreg_list = []\n",
    "xreg_var_list = []\n",
    "xbar_list = []\n",
    "xbar_var_list = []\n",
    "\n",
    "### outer loop\n",
    "for m1 in trange(7, nmod):\n",
    "\n",
    "    ### training \n",
    "    ntest, nlat, nlon = xrcp[m1].shape\n",
    "    nmod = len(xhist)\n",
    "\n",
    "    x1 = []\n",
    "    for m2 in range(nmod):\n",
    "        if m2 != m1:\n",
    "            xt1 = xhist[m2]\n",
    "            xt2 = xrcp[m2][0:nval]\n",
    "            xt = np.moveaxis(np.vstack([xt1, xt2]), 0, 2)\n",
    "            \n",
    "            x1.append(resize(xt, (nlat, nlon)))\n",
    "    x1 = np.moveaxis(np.array(x1), 0, 3).reshape(nlat*nlon, -1, nmod-1)\n",
    "    \n",
    "    y1 = xhist[m1]\n",
    "    y2 = xrcp[m1][0:nval]\n",
    "    \n",
    "    y1 = jnp.array(np.vstack([y1, y2]))\n",
    "    y1 = np.moveaxis(y1, 0, 2).reshape(nlat*nlon, -1)\n",
    "    \n",
    "    y2 = xrcp[m1][nval:ntest]\n",
    "    y2 = np.moveaxis(y2, 0, 2)\n",
    "    \n",
    "    \n",
    "    ### testing\n",
    "    ntest, nlat, nlon = xrcp[m1].shape\n",
    "\n",
    "    x2 = []\n",
    "    for m2 in trange(nmod, leave = False):\n",
    "        if m2 != m1:\n",
    "            xt = xrcp[m2][nval:ntest]\n",
    "            xt = np.moveaxis(xt, 0, 2)\n",
    "            xt = resize(xt, (nlat, nlon))\n",
    "            \n",
    "            x2.append(xt)\n",
    "    x2 = np.array(x2)\n",
    "    x2 = np.moveaxis(x2, 0, 3)\n",
    "    x2 = x2.reshape(nlat*nlon, -1, nmod-1)\n",
    "    \n",
    "    \n",
    "    ### fit and predict\n",
    "    # regression means\n",
    "    beta = lr_pred(x1, y1)\n",
    "    \n",
    "    y1h = np.sum(x1 * beta[:,None,:], axis = 2) \n",
    "    y2h = np.sum(x2 * beta[:,None,:], axis = 2)\n",
    "    y2h = y2h.reshape(nlat, nlon, -1)\n",
    "    y2h = np.moveaxis(y2h, 2, 0)\n",
    "    \n",
    "    y2h_se = np.zeros_like(y2h)\n",
    "    \n",
    "    for j in trange(10, leave = False):\n",
    "        error_j = pred_error(x1, y1h, y1, x2[:,(100*j):(100*(j+1))])\n",
    "        y2h_se[(100*j):(100*(j+1))] = np.moveaxis(error_j.reshape(nlat, nlon, -1), 2, 0)\n",
    "    \n",
    "    \n",
    "    # ensemble means\n",
    "    x2h = np.mean(x2, axis = 2)\n",
    "    x2h = x2h.reshape(nlat, nlon, -1)\n",
    "    x2h = np.moveaxis(x2h, 2, 0)\n",
    "    \n",
    "    x2h_se = np.std(x2, axis = 2)\n",
    "    x2h_se = x2h_se.reshape(nlat, nlon, -1)\n",
    "    x2h_se = np.moveaxis(x2h_se, 2, 0)\n",
    "\n",
    "    \n",
    "    ### save\n",
    "    np.save(f'/submit/experiments/pred/xreg_pr_{m1}.npz', y2h)\n",
    "    np.save(f'/submit/experiments/pred/xreg_pr_{m1}_var.npz', y2h_se)\n",
    "    \n",
    "    np.save(f'/submit/experiments/pred/xbar_pr_{m1}.npz', x2h)\n",
    "    np.save(f'/submit/experiments/pred/xbar_pr_{m1}_var.npz', x2h_se)"
   ]
  },
  {
   "cell_type": "code",
   "execution_count": 7,
   "id": "constitutional-glossary",
   "metadata": {},
   "outputs": [
    {
     "data": {
      "application/vnd.jupyter.widget-view+json": {
       "model_id": "4fec0e2be18d461f833b4a52398b1312",
       "version_major": 2,
       "version_minor": 0
      },
      "text/plain": [
       "  0%|          | 0/16 [00:00<?, ?it/s]"
      ]
     },
     "metadata": {},
     "output_type": "display_data"
    },
    {
     "data": {
      "application/vnd.jupyter.widget-view+json": {
       "model_id": "",
       "version_major": 2,
       "version_minor": 0
      },
      "text/plain": [
       "  0%|          | 0/16 [00:00<?, ?it/s]"
      ]
     },
     "metadata": {},
     "output_type": "display_data"
    },
    {
     "data": {
      "application/vnd.jupyter.widget-view+json": {
       "model_id": "",
       "version_major": 2,
       "version_minor": 0
      },
      "text/plain": [
       "  0%|          | 0/16 [00:00<?, ?it/s]"
      ]
     },
     "metadata": {},
     "output_type": "display_data"
    },
    {
     "data": {
      "application/vnd.jupyter.widget-view+json": {
       "model_id": "",
       "version_major": 2,
       "version_minor": 0
      },
      "text/plain": [
       "  0%|          | 0/16 [00:00<?, ?it/s]"
      ]
     },
     "metadata": {},
     "output_type": "display_data"
    },
    {
     "data": {
      "application/vnd.jupyter.widget-view+json": {
       "model_id": "",
       "version_major": 2,
       "version_minor": 0
      },
      "text/plain": [
       "  0%|          | 0/16 [00:00<?, ?it/s]"
      ]
     },
     "metadata": {},
     "output_type": "display_data"
    },
    {
     "data": {
      "application/vnd.jupyter.widget-view+json": {
       "model_id": "",
       "version_major": 2,
       "version_minor": 0
      },
      "text/plain": [
       "  0%|          | 0/16 [00:00<?, ?it/s]"
      ]
     },
     "metadata": {},
     "output_type": "display_data"
    },
    {
     "data": {
      "application/vnd.jupyter.widget-view+json": {
       "model_id": "",
       "version_major": 2,
       "version_minor": 0
      },
      "text/plain": [
       "  0%|          | 0/16 [00:00<?, ?it/s]"
      ]
     },
     "metadata": {},
     "output_type": "display_data"
    },
    {
     "data": {
      "application/vnd.jupyter.widget-view+json": {
       "model_id": "",
       "version_major": 2,
       "version_minor": 0
      },
      "text/plain": [
       "  0%|          | 0/16 [00:00<?, ?it/s]"
      ]
     },
     "metadata": {},
     "output_type": "display_data"
    },
    {
     "data": {
      "application/vnd.jupyter.widget-view+json": {
       "model_id": "",
       "version_major": 2,
       "version_minor": 0
      },
      "text/plain": [
       "  0%|          | 0/16 [00:00<?, ?it/s]"
      ]
     },
     "metadata": {},
     "output_type": "display_data"
    },
    {
     "data": {
      "application/vnd.jupyter.widget-view+json": {
       "model_id": "",
       "version_major": 2,
       "version_minor": 0
      },
      "text/plain": [
       "  0%|          | 0/16 [00:00<?, ?it/s]"
      ]
     },
     "metadata": {},
     "output_type": "display_data"
    },
    {
     "data": {
      "application/vnd.jupyter.widget-view+json": {
       "model_id": "",
       "version_major": 2,
       "version_minor": 0
      },
      "text/plain": [
       "  0%|          | 0/16 [00:00<?, ?it/s]"
      ]
     },
     "metadata": {},
     "output_type": "display_data"
    },
    {
     "data": {
      "application/vnd.jupyter.widget-view+json": {
       "model_id": "",
       "version_major": 2,
       "version_minor": 0
      },
      "text/plain": [
       "  0%|          | 0/16 [00:00<?, ?it/s]"
      ]
     },
     "metadata": {},
     "output_type": "display_data"
    },
    {
     "data": {
      "application/vnd.jupyter.widget-view+json": {
       "model_id": "",
       "version_major": 2,
       "version_minor": 0
      },
      "text/plain": [
       "  0%|          | 0/16 [00:00<?, ?it/s]"
      ]
     },
     "metadata": {},
     "output_type": "display_data"
    },
    {
     "data": {
      "application/vnd.jupyter.widget-view+json": {
       "model_id": "",
       "version_major": 2,
       "version_minor": 0
      },
      "text/plain": [
       "  0%|          | 0/16 [00:00<?, ?it/s]"
      ]
     },
     "metadata": {},
     "output_type": "display_data"
    },
    {
     "data": {
      "application/vnd.jupyter.widget-view+json": {
       "model_id": "",
       "version_major": 2,
       "version_minor": 0
      },
      "text/plain": [
       "  0%|          | 0/16 [00:00<?, ?it/s]"
      ]
     },
     "metadata": {},
     "output_type": "display_data"
    },
    {
     "data": {
      "application/vnd.jupyter.widget-view+json": {
       "model_id": "",
       "version_major": 2,
       "version_minor": 0
      },
      "text/plain": [
       "  0%|          | 0/16 [00:00<?, ?it/s]"
      ]
     },
     "metadata": {},
     "output_type": "display_data"
    },
    {
     "data": {
      "application/vnd.jupyter.widget-view+json": {
       "model_id": "",
       "version_major": 2,
       "version_minor": 0
      },
      "text/plain": [
       "  0%|          | 0/16 [00:00<?, ?it/s]"
      ]
     },
     "metadata": {},
     "output_type": "display_data"
    },
    {
     "data": {
      "application/vnd.jupyter.widget-view+json": {
       "model_id": "",
       "version_major": 2,
       "version_minor": 0
      },
      "text/plain": [
       "  0%|          | 0/16 [00:00<?, ?it/s]"
      ]
     },
     "metadata": {},
     "output_type": "display_data"
    },
    {
     "data": {
      "application/vnd.jupyter.widget-view+json": {
       "model_id": "",
       "version_major": 2,
       "version_minor": 0
      },
      "text/plain": [
       "  0%|          | 0/16 [00:00<?, ?it/s]"
      ]
     },
     "metadata": {},
     "output_type": "display_data"
    },
    {
     "data": {
      "application/vnd.jupyter.widget-view+json": {
       "model_id": "",
       "version_major": 2,
       "version_minor": 0
      },
      "text/plain": [
       "  0%|          | 0/16 [00:00<?, ?it/s]"
      ]
     },
     "metadata": {},
     "output_type": "display_data"
    },
    {
     "data": {
      "application/vnd.jupyter.widget-view+json": {
       "model_id": "",
       "version_major": 2,
       "version_minor": 0
      },
      "text/plain": [
       "  0%|          | 0/16 [00:00<?, ?it/s]"
      ]
     },
     "metadata": {},
     "output_type": "display_data"
    },
    {
     "data": {
      "application/vnd.jupyter.widget-view+json": {
       "model_id": "",
       "version_major": 2,
       "version_minor": 0
      },
      "text/plain": [
       "  0%|          | 0/16 [00:00<?, ?it/s]"
      ]
     },
     "metadata": {},
     "output_type": "display_data"
    },
    {
     "data": {
      "application/vnd.jupyter.widget-view+json": {
       "model_id": "",
       "version_major": 2,
       "version_minor": 0
      },
      "text/plain": [
       "  0%|          | 0/16 [00:00<?, ?it/s]"
      ]
     },
     "metadata": {},
     "output_type": "display_data"
    },
    {
     "data": {
      "application/vnd.jupyter.widget-view+json": {
       "model_id": "",
       "version_major": 2,
       "version_minor": 0
      },
      "text/plain": [
       "  0%|          | 0/16 [00:00<?, ?it/s]"
      ]
     },
     "metadata": {},
     "output_type": "display_data"
    },
    {
     "data": {
      "application/vnd.jupyter.widget-view+json": {
       "model_id": "",
       "version_major": 2,
       "version_minor": 0
      },
      "text/plain": [
       "  0%|          | 0/16 [00:00<?, ?it/s]"
      ]
     },
     "metadata": {},
     "output_type": "display_data"
    },
    {
     "data": {
      "application/vnd.jupyter.widget-view+json": {
       "model_id": "",
       "version_major": 2,
       "version_minor": 0
      },
      "text/plain": [
       "  0%|          | 0/16 [00:00<?, ?it/s]"
      ]
     },
     "metadata": {},
     "output_type": "display_data"
    },
    {
     "data": {
      "application/vnd.jupyter.widget-view+json": {
       "model_id": "",
       "version_major": 2,
       "version_minor": 0
      },
      "text/plain": [
       "  0%|          | 0/16 [00:00<?, ?it/s]"
      ]
     },
     "metadata": {},
     "output_type": "display_data"
    },
    {
     "data": {
      "application/vnd.jupyter.widget-view+json": {
       "model_id": "",
       "version_major": 2,
       "version_minor": 0
      },
      "text/plain": [
       "  0%|          | 0/16 [00:00<?, ?it/s]"
      ]
     },
     "metadata": {},
     "output_type": "display_data"
    },
    {
     "data": {
      "application/vnd.jupyter.widget-view+json": {
       "model_id": "",
       "version_major": 2,
       "version_minor": 0
      },
      "text/plain": [
       "  0%|          | 0/16 [00:00<?, ?it/s]"
      ]
     },
     "metadata": {},
     "output_type": "display_data"
    },
    {
     "data": {
      "application/vnd.jupyter.widget-view+json": {
       "model_id": "",
       "version_major": 2,
       "version_minor": 0
      },
      "text/plain": [
       "  0%|          | 0/16 [00:00<?, ?it/s]"
      ]
     },
     "metadata": {},
     "output_type": "display_data"
    },
    {
     "data": {
      "application/vnd.jupyter.widget-view+json": {
       "model_id": "",
       "version_major": 2,
       "version_minor": 0
      },
      "text/plain": [
       "  0%|          | 0/16 [00:00<?, ?it/s]"
      ]
     },
     "metadata": {},
     "output_type": "display_data"
    },
    {
     "data": {
      "application/vnd.jupyter.widget-view+json": {
       "model_id": "",
       "version_major": 2,
       "version_minor": 0
      },
      "text/plain": [
       "  0%|          | 0/16 [00:00<?, ?it/s]"
      ]
     },
     "metadata": {},
     "output_type": "display_data"
    },
    {
     "data": {
      "application/vnd.jupyter.widget-view+json": {
       "model_id": "",
       "version_major": 2,
       "version_minor": 0
      },
      "text/plain": [
       "  0%|          | 0/16 [00:00<?, ?it/s]"
      ]
     },
     "metadata": {},
     "output_type": "display_data"
    },
    {
     "name": "stdout",
     "output_type": "stream",
     "text": [
      "CPU times: user 13min 28s, sys: 2min 5s, total: 15min 34s\n",
      "Wall time: 14min 22s\n"
     ]
    }
   ],
   "source": [
    "%%time \n",
    "\n",
    "###### WEA\n",
    "\n",
    "nmod = len(xhist)\n",
    "xwea_list = []\n",
    "\n",
    "### outer loop\n",
    "for m1 in trange(nmod):\n",
    "    y1 = xhist[m1]\n",
    "    y1 = np.moveaxis(y1, 0, 2)\n",
    "\n",
    "    y2 = xrcp[m1]\n",
    "    y2 = np.moveaxis(y2, 0, 2)\n",
    "\n",
    "    nlat, nlon, ntest = y2.shape\n",
    "    nmod = len(xhist)\n",
    "\n",
    "    x1 = []\n",
    "    for m2 in trange(nmod, leave = False):\n",
    "        if m2 != m1:\n",
    "            xt = np.moveaxis(xhist[m2], 0, 2)\n",
    "            x1.append(resize(xt, (nlat, nlon)))\n",
    "            \n",
    "    sigma_d = 5.7\n",
    "    sigma_s = 5.7\n",
    "\n",
    "    di = np.array([np.mean((y1 - xi)**2, axis = 2) for xi in x1])\n",
    "    sij = np.sum(np.array([[np.mean((xi - xj)**2, axis = 2) for xi in x1] for xj in x1]), axis = 0)\n",
    "    w = np.exp(-di / sigma_d) / (1 + np.exp(-sij / sigma_s))\n",
    "    w /= np.sum(w, axis = 0)[None,:,:]\n",
    "    \n",
    "    \n",
    "    x2 = []\n",
    "    for m2 in trange(nmod, leave = False):\n",
    "        if m2 != m1:\n",
    "            xt = np.moveaxis(xrcp[m2][nval:ntest], 0, 2)\n",
    "            xt = resize(xt, (nlat, nlon))\n",
    "            \n",
    "            x2.append(xt)\n",
    "    x2 = np.array(x2)\n",
    "    \n",
    "    xwea_hat = np.sum(w[:,:,:,None] * x2, axis = 0)\n",
    "    xwea_hat = np.moveaxis(xwea_hat, 2, 0)\n",
    "    \n",
    "    xwea_list.append(xwea_hat)"
   ]
  },
  {
   "cell_type": "code",
   "execution_count": 8,
   "id": "facial-whale",
   "metadata": {},
   "outputs": [
    {
     "data": {
      "application/vnd.jupyter.widget-view+json": {
       "model_id": "04344f262c104f23838f82ce78201149",
       "version_major": 2,
       "version_minor": 0
      },
      "text/plain": [
       "  0%|          | 0/16 [00:00<?, ?it/s]"
      ]
     },
     "metadata": {},
     "output_type": "display_data"
    }
   ],
   "source": [
    "for t in trange(nmod):\n",
    "    np.save(f'/submit/experiments/pred/xwea_pr_{t}.npz', xwea_list[t])"
   ]
  },
  {
   "cell_type": "code",
   "execution_count": null,
   "id": "future-saint",
   "metadata": {},
   "outputs": [],
   "source": []
  },
  {
   "cell_type": "code",
   "execution_count": null,
   "id": "computational-clarity",
   "metadata": {},
   "outputs": [],
   "source": []
  }
 ],
 "metadata": {
  "kernelspec": {
   "display_name": "Python 3 (ipykernel)",
   "language": "python",
   "name": "python3"
  },
  "language_info": {
   "codemirror_mode": {
    "name": "ipython",
    "version": 3
   },
   "file_extension": ".py",
   "mimetype": "text/x-python",
   "name": "python",
   "nbconvert_exporter": "python",
   "pygments_lexer": "ipython3",
   "version": "3.9.12"
  }
 },
 "nbformat": 4,
 "nbformat_minor": 5
}
