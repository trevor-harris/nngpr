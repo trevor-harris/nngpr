{
 "cells": [
  {
   "cell_type": "code",
   "execution_count": 1,
   "metadata": {},
   "outputs": [
    {
     "name": "stderr",
     "output_type": "stream",
     "text": [
      "/home/trevorh2/anaconda3/lib/python3.9/site-packages/haiku/_src/data_structures.py:37: FutureWarning: jax.tree_structure is deprecated, and will be removed in a future release. Use jax.tree_util.tree_structure instead.\n",
      "  PyTreeDef = type(jax.tree_structure(None))\n"
     ]
    }
   ],
   "source": [
    "import os\n",
    "import gc\n",
    "import math\n",
    "\n",
    "# numpy\n",
    "import numpy as np\n",
    "import numpy.ma as ma\n",
    "\n",
    "# from jax\n",
    "import jax\n",
    "from jax import vmap, grad, jit, random, nn\n",
    "from jax.config import config\n",
    "# from jax.experimental import optimizers\n",
    "import jax.numpy as jnp\n",
    "from jax.tree_util import tree_map, tree_flatten, tree_unflatten, tree_leaves\n",
    "\n",
    "import haiku as hk\n",
    "import optax\n",
    "\n",
    "config.update(\"jax_enable_x64\", True)\n",
    "\n",
    "from skimage.restoration import estimate_sigma\n",
    "from skimage.transform import resize\n",
    "\n",
    "\n",
    "# netCDF\n",
    "import netCDF4 as nc\n",
    "\n",
    "from tqdm.notebook import tqdm\n",
    "from tqdm.notebook import trange\n",
    "\n",
    "import pickle"
   ]
  },
  {
   "cell_type": "code",
   "execution_count": null,
   "metadata": {},
   "outputs": [],
   "source": [
    "def delta_pred(xtest, xtrain, ytrain):\n",
    "    delta = jnp.mean(xtest - xtrain, axis = 3)\n",
    "    return jnp.median(ytrain + delta, axis = 0)\n",
    "\n",
    "delta_pred = jit(delta_pred)\n",
    "\n",
    "def delta_var(xtest, xtrain, ytrain):\n",
    "    delta = jnp.mean(xtest - xtrain, axis = 3)\n",
    "    return jnp.std(ytrain + delta, axis = 0)\n",
    "\n",
    "delta_var = jit(delta_var)"
   ]
  },
  {
   "cell_type": "code",
   "execution_count": 2,
   "metadata": {},
   "outputs": [],
   "source": [
    "xhist = pickle.load(open('../data/saved/xhist_pr.pkl', 'rb'))\n",
    "xrcp = pickle.load(open('../data/saved/xrcp_pr.pkl', 'rb'))\n",
    "\n",
    "nval = 72\n",
    "nmod = len(xhist)"
   ]
  },
  {
   "cell_type": "code",
   "execution_count": 4,
   "metadata": {},
   "outputs": [
    {
     "data": {
      "application/vnd.jupyter.widget-view+json": {
       "model_id": "9bc41aa409af405686f452603d6d9acf",
       "version_major": 2,
       "version_minor": 0
      },
      "text/plain": [
       "  0%|          | 0/16 [00:00<?, ?it/s]"
      ]
     },
     "metadata": {},
     "output_type": "display_data"
    },
    {
     "data": {
      "application/vnd.jupyter.widget-view+json": {
       "model_id": "502e311dad5e48749458ca0bb3270c7c",
       "version_major": 2,
       "version_minor": 0
      },
      "text/plain": [
       "  0%|          | 0/948 [00:00<?, ?it/s]"
      ]
     },
     "metadata": {},
     "output_type": "display_data"
    },
    {
     "data": {
      "application/vnd.jupyter.widget-view+json": {
       "model_id": "eb5020d1533c439d90c016081429fac4",
       "version_major": 2,
       "version_minor": 0
      },
      "text/plain": [
       "  0%|          | 0/948 [00:00<?, ?it/s]"
      ]
     },
     "metadata": {},
     "output_type": "display_data"
    },
    {
     "data": {
      "application/vnd.jupyter.widget-view+json": {
       "model_id": "84f2ef25bda54b7892f783708d051879",
       "version_major": 2,
       "version_minor": 0
      },
      "text/plain": [
       "  0%|          | 0/948 [00:00<?, ?it/s]"
      ]
     },
     "metadata": {},
     "output_type": "display_data"
    },
    {
     "data": {
      "application/vnd.jupyter.widget-view+json": {
       "model_id": "df30943eb7bc4da3bd904d4c5d0bccb1",
       "version_major": 2,
       "version_minor": 0
      },
      "text/plain": [
       "  0%|          | 0/948 [00:00<?, ?it/s]"
      ]
     },
     "metadata": {},
     "output_type": "display_data"
    },
    {
     "data": {
      "application/vnd.jupyter.widget-view+json": {
       "model_id": "288412826d664e31959643b1867c833e",
       "version_major": 2,
       "version_minor": 0
      },
      "text/plain": [
       "  0%|          | 0/948 [00:00<?, ?it/s]"
      ]
     },
     "metadata": {},
     "output_type": "display_data"
    },
    {
     "data": {
      "application/vnd.jupyter.widget-view+json": {
       "model_id": "9f181c08893e4598bfc53e032365fa1b",
       "version_major": 2,
       "version_minor": 0
      },
      "text/plain": [
       "  0%|          | 0/948 [00:00<?, ?it/s]"
      ]
     },
     "metadata": {},
     "output_type": "display_data"
    },
    {
     "data": {
      "application/vnd.jupyter.widget-view+json": {
       "model_id": "114d7304682c4d8f957118c8ed5d9ff8",
       "version_major": 2,
       "version_minor": 0
      },
      "text/plain": [
       "  0%|          | 0/948 [00:00<?, ?it/s]"
      ]
     },
     "metadata": {},
     "output_type": "display_data"
    },
    {
     "data": {
      "application/vnd.jupyter.widget-view+json": {
       "model_id": "a2b0f12dd3b249d1b038c7ce5b556812",
       "version_major": 2,
       "version_minor": 0
      },
      "text/plain": [
       "  0%|          | 0/948 [00:00<?, ?it/s]"
      ]
     },
     "metadata": {},
     "output_type": "display_data"
    },
    {
     "data": {
      "application/vnd.jupyter.widget-view+json": {
       "model_id": "894d83a793a44f3781a2cad9fd893a32",
       "version_major": 2,
       "version_minor": 0
      },
      "text/plain": [
       "  0%|          | 0/948 [00:00<?, ?it/s]"
      ]
     },
     "metadata": {},
     "output_type": "display_data"
    },
    {
     "data": {
      "application/vnd.jupyter.widget-view+json": {
       "model_id": "e0b1c00901c14e32992b19410d075396",
       "version_major": 2,
       "version_minor": 0
      },
      "text/plain": [
       "  0%|          | 0/948 [00:00<?, ?it/s]"
      ]
     },
     "metadata": {},
     "output_type": "display_data"
    },
    {
     "data": {
      "application/vnd.jupyter.widget-view+json": {
       "model_id": "34d50b7f1c204bcb8bb13f21540a0072",
       "version_major": 2,
       "version_minor": 0
      },
      "text/plain": [
       "  0%|          | 0/948 [00:00<?, ?it/s]"
      ]
     },
     "metadata": {},
     "output_type": "display_data"
    },
    {
     "data": {
      "application/vnd.jupyter.widget-view+json": {
       "model_id": "40ca9d824aec485b9fa74f97d2a5cc4c",
       "version_major": 2,
       "version_minor": 0
      },
      "text/plain": [
       "  0%|          | 0/948 [00:00<?, ?it/s]"
      ]
     },
     "metadata": {},
     "output_type": "display_data"
    },
    {
     "data": {
      "application/vnd.jupyter.widget-view+json": {
       "model_id": "7bca5d29954c447b9cf6e4f1aea57abe",
       "version_major": 2,
       "version_minor": 0
      },
      "text/plain": [
       "  0%|          | 0/948 [00:00<?, ?it/s]"
      ]
     },
     "metadata": {},
     "output_type": "display_data"
    },
    {
     "data": {
      "application/vnd.jupyter.widget-view+json": {
       "model_id": "6f008cea87d24deb98dfbcb080a488e9",
       "version_major": 2,
       "version_minor": 0
      },
      "text/plain": [
       "  0%|          | 0/948 [00:00<?, ?it/s]"
      ]
     },
     "metadata": {},
     "output_type": "display_data"
    },
    {
     "data": {
      "application/vnd.jupyter.widget-view+json": {
       "model_id": "8f28c276968845698f8281ef7b5e5af4",
       "version_major": 2,
       "version_minor": 0
      },
      "text/plain": [
       "  0%|          | 0/948 [00:00<?, ?it/s]"
      ]
     },
     "metadata": {},
     "output_type": "display_data"
    },
    {
     "data": {
      "application/vnd.jupyter.widget-view+json": {
       "model_id": "c108f25f278449c0ac2126cdf85cf89f",
       "version_major": 2,
       "version_minor": 0
      },
      "text/plain": [
       "  0%|          | 0/948 [00:00<?, ?it/s]"
      ]
     },
     "metadata": {},
     "output_type": "display_data"
    }
   ],
   "source": [
    "### run experiments\n",
    "\n",
    "nmod = len(xhist)\n",
    "ntrain = xhist[0].shape[0]\n",
    "ntest = xrcp[0].shape[0]\n",
    "\n",
    "sgpr_list = []\n",
    "\n",
    "# for m1 in trange(nmod):\n",
    "for m1 in trange(nmod):\n",
    "\n",
    "    _, nlat, nlon = xhist[m1].shape\n",
    "\n",
    "    #### construct training set\n",
    "    xtrain = []\n",
    "    for m2 in range(nmod):\n",
    "        if m1 != m2:\n",
    "            x1 = xhist[m2]\n",
    "            x2 = xrcp[m2][0:nval]\n",
    "            \n",
    "            xt = np.moveaxis(np.vstack([x1, x2]), 0, 2)\n",
    "            xtrain.append(resize(xt, (nlat, nlon)))\n",
    "        \n",
    "    xtrain = np.moveaxis(np.array(xtrain), (0, 3), (3, 0))\n",
    "    y1 = xhist[m1]\n",
    "    y2 = xrcp[m1][0:nval]\n",
    "    ytrain = jnp.array(np.vstack([y1, y2]))\n",
    "    \n",
    "    \n",
    "    #### construct testing set\n",
    "    xtest = []\n",
    "    for m2 in range(nmod):\n",
    "        if m1 != m2:\n",
    "            x1 = xrcp[m2][nval:ntest]\n",
    "            x1 = np.moveaxis(x1, 0, 2)\n",
    "            xtest.append(resize(x1, (nlat, nlon)))\n",
    "        \n",
    "    xtest = np.moveaxis(np.array(xtest), (0, 3), (3, 0))\n",
    "    ytest = xrcp[m1][nval:ntest]\n",
    "    \n",
    "    \n",
    "    ### train\n",
    "    xtrain = jnp.array(xtrain)\n",
    "    ytrain = jnp.array(ytrain)\n",
    "    xtest = jnp.array(xtest)\n",
    "    \n",
    "    yhat = np.zeros_like(ytest)\n",
    "    yhat_var = np.zeros_like(ytest)\n",
    "    \n",
    "    for i in trange(yhat.shape[0]):\n",
    "        yhat[i] = delta_pred(xtest[i], xtrain, ytrain)\n",
    "        yhat_var[i] = delta_var(xtest[i], xtrain, ytrain)\n",
    "    \n",
    "    np.save(f'../experiments/pr_predictions/del_pr_{m1}.npz', yhat)\n",
    "    np.save(f'../experiments/pr_predictions/del_pr_{m1}_var.npz', yhat)"
   ]
  },
  {
   "cell_type": "code",
   "execution_count": null,
   "metadata": {},
   "outputs": [],
   "source": []
  }
 ],
 "metadata": {
  "kernelspec": {
   "display_name": "Python 3 (ipykernel)",
   "language": "python",
   "name": "python3"
  },
  "language_info": {
   "codemirror_mode": {
    "name": "ipython",
    "version": 3
   },
   "file_extension": ".py",
   "mimetype": "text/x-python",
   "name": "python",
   "nbconvert_exporter": "python",
   "pygments_lexer": "ipython3",
   "version": "3.9.12"
  }
 },
 "nbformat": 4,
 "nbformat_minor": 4
}
