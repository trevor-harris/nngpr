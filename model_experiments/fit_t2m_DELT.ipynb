{
 "cells": [
  {
   "cell_type": "code",
   "execution_count": 2,
   "metadata": {},
   "outputs": [
    {
     "name": "stderr",
     "output_type": "stream",
     "text": [
      "/home/trevorh2/anaconda3/lib/python3.9/site-packages/haiku/_src/data_structures.py:37: FutureWarning: jax.tree_structure is deprecated, and will be removed in a future release. Use jax.tree_util.tree_structure instead.\n",
      "  PyTreeDef = type(jax.tree_structure(None))\n"
     ]
    }
   ],
   "source": [
    "import os\n",
    "import gc\n",
    "import math\n",
    "\n",
    "# numpy\n",
    "import numpy as np\n",
    "import numpy.ma as ma\n",
    "\n",
    "# from jax\n",
    "import jax\n",
    "from jax import vmap, grad, jit, random, nn\n",
    "from jax.config import config\n",
    "# from jax.experimental import optimizers\n",
    "import jax.numpy as jnp\n",
    "from jax.tree_util import tree_map, tree_flatten, tree_unflatten, tree_leaves\n",
    "\n",
    "import haiku as hk\n",
    "import optax\n",
    "\n",
    "config.update(\"jax_enable_x64\", True)\n",
    "\n",
    "from skimage.restoration import estimate_sigma\n",
    "from skimage.transform import resize\n",
    "\n",
    "\n",
    "# netCDF\n",
    "import netCDF4 as nc\n",
    "\n",
    "from tqdm.notebook import tqdm\n",
    "from tqdm.notebook import trange\n",
    "\n",
    "import pickle"
   ]
  },
  {
   "cell_type": "code",
   "execution_count": null,
   "metadata": {},
   "outputs": [],
   "source": [
    "def delta_pred(xtest, xtrain, ytrain):\n",
    "    delta = jnp.mean(xtest - xtrain, axis = 3)\n",
    "    return jnp.median(ytrain + delta, axis = 0)\n",
    "\n",
    "delta_pred = jit(delta_pred)\n",
    "\n",
    "def delta_var(xtest, xtrain, ytrain):\n",
    "    delta = jnp.mean(xtest - xtrain, axis = 3)\n",
    "    return jnp.std(ytrain + delta, axis = 0)\n",
    "\n",
    "delta_var = jit(delta_var)"
   ]
  },
  {
   "cell_type": "code",
   "execution_count": 3,
   "metadata": {},
   "outputs": [],
   "source": [
    "xhist = pickle.load(open('../data/saved/xhist_tas.pkl', 'rb'))\n",
    "xrcp = pickle.load(open('../data/saved/xrcp_tas.pkl', 'rb'))\n",
    "\n",
    "nval = 72\n",
    "nmod = len(xhist)"
   ]
  },
  {
   "cell_type": "code",
   "execution_count": 6,
   "metadata": {},
   "outputs": [
    {
     "data": {
      "application/vnd.jupyter.widget-view+json": {
       "model_id": "97761319d51144f3acd076f5de2ef906",
       "version_major": 2,
       "version_minor": 0
      },
      "text/plain": [
       "  0%|          | 0/16 [00:00<?, ?it/s]"
      ]
     },
     "metadata": {},
     "output_type": "display_data"
    },
    {
     "data": {
      "application/vnd.jupyter.widget-view+json": {
       "model_id": "980db396497b45549053561274884c02",
       "version_major": 2,
       "version_minor": 0
      },
      "text/plain": [
       "  0%|          | 0/960 [00:00<?, ?it/s]"
      ]
     },
     "metadata": {},
     "output_type": "display_data"
    },
    {
     "data": {
      "application/vnd.jupyter.widget-view+json": {
       "model_id": "fa5f96511b0b4c22a44ac020279452be",
       "version_major": 2,
       "version_minor": 0
      },
      "text/plain": [
       "  0%|          | 0/960 [00:00<?, ?it/s]"
      ]
     },
     "metadata": {},
     "output_type": "display_data"
    },
    {
     "data": {
      "application/vnd.jupyter.widget-view+json": {
       "model_id": "308160fb09994b1c951d417257a474d1",
       "version_major": 2,
       "version_minor": 0
      },
      "text/plain": [
       "  0%|          | 0/960 [00:00<?, ?it/s]"
      ]
     },
     "metadata": {},
     "output_type": "display_data"
    },
    {
     "data": {
      "application/vnd.jupyter.widget-view+json": {
       "model_id": "5383a4e2400646379a406042565628eb",
       "version_major": 2,
       "version_minor": 0
      },
      "text/plain": [
       "  0%|          | 0/960 [00:00<?, ?it/s]"
      ]
     },
     "metadata": {},
     "output_type": "display_data"
    },
    {
     "data": {
      "application/vnd.jupyter.widget-view+json": {
       "model_id": "92947662ca9d4fb9810a33cf16374b48",
       "version_major": 2,
       "version_minor": 0
      },
      "text/plain": [
       "  0%|          | 0/960 [00:00<?, ?it/s]"
      ]
     },
     "metadata": {},
     "output_type": "display_data"
    },
    {
     "data": {
      "application/vnd.jupyter.widget-view+json": {
       "model_id": "f967a2fc13d040f1914b8687cfa85f9d",
       "version_major": 2,
       "version_minor": 0
      },
      "text/plain": [
       "  0%|          | 0/960 [00:00<?, ?it/s]"
      ]
     },
     "metadata": {},
     "output_type": "display_data"
    },
    {
     "data": {
      "application/vnd.jupyter.widget-view+json": {
       "model_id": "0015d05dc74041db83dc415ab11b103b",
       "version_major": 2,
       "version_minor": 0
      },
      "text/plain": [
       "  0%|          | 0/960 [00:00<?, ?it/s]"
      ]
     },
     "metadata": {},
     "output_type": "display_data"
    },
    {
     "data": {
      "application/vnd.jupyter.widget-view+json": {
       "model_id": "348a152cb4cd41a89e832fb748812ea0",
       "version_major": 2,
       "version_minor": 0
      },
      "text/plain": [
       "  0%|          | 0/960 [00:00<?, ?it/s]"
      ]
     },
     "metadata": {},
     "output_type": "display_data"
    },
    {
     "data": {
      "application/vnd.jupyter.widget-view+json": {
       "model_id": "dac60c06a0d34d7fac75a3124417e4c9",
       "version_major": 2,
       "version_minor": 0
      },
      "text/plain": [
       "  0%|          | 0/960 [00:00<?, ?it/s]"
      ]
     },
     "metadata": {},
     "output_type": "display_data"
    },
    {
     "data": {
      "application/vnd.jupyter.widget-view+json": {
       "model_id": "a50d159a95084a57992becf99004800d",
       "version_major": 2,
       "version_minor": 0
      },
      "text/plain": [
       "  0%|          | 0/960 [00:00<?, ?it/s]"
      ]
     },
     "metadata": {},
     "output_type": "display_data"
    },
    {
     "data": {
      "application/vnd.jupyter.widget-view+json": {
       "model_id": "94b6ede7087f42599adcc0849a8e9fa7",
       "version_major": 2,
       "version_minor": 0
      },
      "text/plain": [
       "  0%|          | 0/960 [00:00<?, ?it/s]"
      ]
     },
     "metadata": {},
     "output_type": "display_data"
    },
    {
     "data": {
      "application/vnd.jupyter.widget-view+json": {
       "model_id": "6720a04d9e814b0999faf7f132993932",
       "version_major": 2,
       "version_minor": 0
      },
      "text/plain": [
       "  0%|          | 0/960 [00:00<?, ?it/s]"
      ]
     },
     "metadata": {},
     "output_type": "display_data"
    },
    {
     "data": {
      "application/vnd.jupyter.widget-view+json": {
       "model_id": "52efa5190e7742bca88959d05de754e1",
       "version_major": 2,
       "version_minor": 0
      },
      "text/plain": [
       "  0%|          | 0/960 [00:00<?, ?it/s]"
      ]
     },
     "metadata": {},
     "output_type": "display_data"
    },
    {
     "data": {
      "application/vnd.jupyter.widget-view+json": {
       "model_id": "d794f3df65674e1fb4c9051bba32ffe3",
       "version_major": 2,
       "version_minor": 0
      },
      "text/plain": [
       "  0%|          | 0/960 [00:00<?, ?it/s]"
      ]
     },
     "metadata": {},
     "output_type": "display_data"
    },
    {
     "data": {
      "application/vnd.jupyter.widget-view+json": {
       "model_id": "98aed55fd0594818bcb0324bd0e02745",
       "version_major": 2,
       "version_minor": 0
      },
      "text/plain": [
       "  0%|          | 0/960 [00:00<?, ?it/s]"
      ]
     },
     "metadata": {},
     "output_type": "display_data"
    },
    {
     "data": {
      "application/vnd.jupyter.widget-view+json": {
       "model_id": "6bf5a1ff28d4451b94284bcfb4be000b",
       "version_major": 2,
       "version_minor": 0
      },
      "text/plain": [
       "  0%|          | 0/960 [00:00<?, ?it/s]"
      ]
     },
     "metadata": {},
     "output_type": "display_data"
    }
   ],
   "source": [
    "### run experiments\n",
    "\n",
    "nmod = len(xhist)\n",
    "ntrain = xhist[0].shape[0]\n",
    "ntest = xrcp[0].shape[0]\n",
    "# ntest = nval + 100\n",
    "# ntest = 400\n",
    "\n",
    "sgpr_list = []\n",
    "\n",
    "# for m1 in trange(nmod):\n",
    "for m1 in trange(nmod):\n",
    "\n",
    "    _, nlat, nlon = xhist[m1].shape\n",
    "\n",
    "    #### construct training set\n",
    "    xtrain = []\n",
    "    for m2 in range(nmod):\n",
    "        if m1 != m2:\n",
    "            x1 = xhist[m2]\n",
    "            x2 = xrcp[m2][0:nval]\n",
    "            \n",
    "            xt = np.moveaxis(np.vstack([x1, x2]), 0, 2)\n",
    "            xtrain.append(resize(xt, (nlat, nlon)))\n",
    "        \n",
    "    xtrain = np.moveaxis(np.array(xtrain), (0, 3), (3, 0))\n",
    "    y1 = xhist[m1]\n",
    "    y2 = xrcp[m1][0:nval]\n",
    "    ytrain = jnp.array(np.vstack([y1, y2]))\n",
    "    \n",
    "    \n",
    "    #### construct testing set\n",
    "    xtest = []\n",
    "    for m2 in range(nmod):\n",
    "        if m1 != m2:\n",
    "            x1 = xrcp[m2][nval:ntest]\n",
    "            x1 = np.moveaxis(x1, 0, 2)\n",
    "            xtest.append(resize(x1, (nlat, nlon)))\n",
    "        \n",
    "    xtest = np.moveaxis(np.array(xtest), (0, 3), (3, 0))\n",
    "    ytest = xrcp[m1][nval:ntest]\n",
    "    \n",
    "    \n",
    "    ### train\n",
    "    xtrain = jnp.array(xtrain)\n",
    "    ytrain = jnp.array(ytrain)\n",
    "    xtest = jnp.array(xtest)\n",
    "    \n",
    "    yhat = np.zeros_like(ytest)\n",
    "    yhat_var = np.zeros_like(ytest)\n",
    "    for i in trange(yhat.shape[0]):\n",
    "        yhat[i] = delta_pred(xtest[i], xtrain, ytrain)\n",
    "        yhat_var[i] = delta_var(xtest[i], xtrain, ytrain)\n",
    "    \n",
    "    np.save(f'../experiments/tas_predictions/del_tas_{m1}.npz', yhat)\n",
    "    np.save(f'../experiments/tas_predictions/del_tas_{m1}_var.npz', yhat)"
   ]
  },
  {
   "cell_type": "code",
   "execution_count": null,
   "metadata": {},
   "outputs": [],
   "source": []
  }
 ],
 "metadata": {
  "kernelspec": {
   "display_name": "Python 3 (ipykernel)",
   "language": "python",
   "name": "python3"
  },
  "language_info": {
   "codemirror_mode": {
    "name": "ipython",
    "version": 3
   },
   "file_extension": ".py",
   "mimetype": "text/x-python",
   "name": "python",
   "nbconvert_exporter": "python",
   "pygments_lexer": "ipython3",
   "version": "3.9.12"
  }
 },
 "nbformat": 4,
 "nbformat_minor": 4
}
