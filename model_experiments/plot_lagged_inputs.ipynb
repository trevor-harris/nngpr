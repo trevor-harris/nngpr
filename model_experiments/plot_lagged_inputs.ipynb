{
 "cells": [
  {
   "cell_type": "code",
   "execution_count": 7,
   "id": "graduate-warrior",
   "metadata": {},
   "outputs": [],
   "source": [
    "import os\n",
    "import gc\n",
    "import math\n",
    "\n",
    "# numpy\n",
    "import numpy as np\n",
    "import numpy.ma as ma\n",
    "\n",
    "import jax\n",
    "from jax import vmap, grad, jit, random\n",
    "from jax.config import config\n",
    "# from jax.experimental import optimizers\n",
    "import jax.numpy as jnp\n",
    "from jax.tree_util import tree_map, tree_flatten, tree_unflatten, tree_leaves\n",
    "\n",
    "config.update(\"jax_enable_x64\", True)\n",
    "\n",
    "from skimage.restoration import estimate_sigma\n",
    "from skimage.transform import resize\n",
    "\n",
    "### CRPS\n",
    "import properscoring as ps\n",
    "\n",
    "### SSIM and PSNR\n",
    "from skimage.metrics import structural_similarity as ssim\n",
    "from skimage.metrics import peak_signal_noise_ratio as psnr\n",
    "\n",
    "# plotting\n",
    "import matplotlib\n",
    "import matplotlib.pyplot as plt\n",
    "plt.style.use('default')\n",
    "\n",
    "# netCDF\n",
    "import netCDF4 as nc\n",
    "\n",
    "from tqdm.notebook import tqdm\n",
    "from tqdm.notebook import trange\n",
    "\n",
    "import pickle"
   ]
  },
  {
   "cell_type": "code",
   "execution_count": 8,
   "id": "hungry-supply",
   "metadata": {},
   "outputs": [],
   "source": [
    "### model init\n",
    "\n",
    "def nngp_params(key, depth = 1):\n",
    "\n",
    "    subkeys = random.split(key, 3 + 2 * (depth - 1))\n",
    "\n",
    "    base_layer = jnp.array([random.uniform(subkeys[0], minval = 0.75, maxval = 1.25), \n",
    "                            random.uniform(subkeys[1], minval = 0.1, maxval = 0.5),\n",
    "                            random.uniform(subkeys[2], minval = 2, maxval = 3)])\n",
    "    base_layer = [tuple(base_layer)]\n",
    "\n",
    "    return base_layer\n",
    "parallel_nngp_params = vmap(nngp_params, in_axes=(0, None))\n",
    "\n",
    "\n",
    "def random_params(key, depth):\n",
    "    nngp_par = nngp_params(key, depth)\n",
    "    trend_par = trend_params(key)\n",
    "    \n",
    "    return [nngp_par, trend_par]\n",
    "parallel_params = vmap(random_params, in_axes=(0, None))\n",
    "\n",
    "@jit\n",
    "def random_init(params):\n",
    "    return opt_init(params)\n",
    "parallel_init = vmap(random_init)\n",
    "\n",
    "@jit\n",
    "def param_abs(x):\n",
    "    return jnp.abs(x)\n",
    "\n",
    "@jit\n",
    "def param_select(param_list, i):\n",
    "    return tree_map(lambda x: x[i], param_list)"
   ]
  },
  {
   "cell_type": "code",
   "execution_count": 9,
   "id": "intellectual-phoenix",
   "metadata": {},
   "outputs": [],
   "source": [
    "### model specification\n",
    "\n",
    "depth = 10\n",
    "\n",
    "## nngp functions\n",
    "def nngp_kernel(params, x, y):\n",
    "    x = jnp.array(x)\n",
    "    y = jnp.array(y)\n",
    "    \n",
    "    kxx = params[0][1] + params[0][0] * (jnp.dot(x, x.T) / x.shape[0])\n",
    "    kyy = params[0][1] + params[0][0] * (jnp.dot(y, y.T) / x.shape[0])\n",
    "    kxy = params[0][1] + params[0][0] * (jnp.dot(x, y.T) / x.shape[0])\n",
    "    \n",
    "    for i in range(depth):\n",
    "        \n",
    "        ## kxy\n",
    "        cor = jnp.clip(kxy / jnp.sqrt(kxx * kyy), -1.0 + 1e-16, 1.0 - 1e-16)\n",
    "        theta = jnp.arccos(cor)\n",
    "        trig = jnp.sin(theta) + (math.pi - theta) * jnp.cos(theta)\n",
    "        kxy = params[0][1] + (params[0][0] / (2 * math.pi)) * jnp.sqrt(kxx * kyy) * trig\n",
    "                \n",
    "        ## kxx\n",
    "        kxx = params[0][1] + (params[0][0] / 2) * kxx\n",
    "    \n",
    "        ## kyy\n",
    "        kyy = params[0][1] + (params[0][0] / 2) * kyy\n",
    "        \n",
    "    return kxy\n",
    "\n",
    "nngp_kernel = jit(nngp_kernel)\n",
    "nngp_cov = jit(vmap(vmap(nngp_kernel, (None, None, 0)), (None, 0, None)))\n",
    "nngp_var = jit(vmap(nngp_kernel, (None, 0, 0)))\n",
    "\n",
    "\n",
    "def nngp_predict(params, xtest, xtrain, ytrain):\n",
    "    n, p = ytrain.shape\n",
    "        \n",
    "    k_DD0 = nngp_cov(params, xtrain, xtrain)\n",
    "    k_DD0 += jnp.diag(jnp.repeat(params[0][2], n))\n",
    "    prec0 = jnp.linalg.inv(k_DD0)\n",
    "    \n",
    "    k_xD0 = nngp_cov(params, xtest, xtrain)\n",
    "    \n",
    "    proj0 = jnp.matmul(k_xD0, prec0)\n",
    "    return jnp.matmul(proj0, ytrain)\n",
    "nngp_predict = jit(nngp_predict)\n",
    "\n",
    "\n",
    "def nngp_dist(params, xtest, xtrain, ytrain):\n",
    "    n, p = ytrain.shape\n",
    "        \n",
    "    k_DD0 = nngp_cov(params, xtrain, xtrain)\n",
    "    k_DD0 += jnp.diag(jnp.repeat(params[0][2], n))\n",
    "    prec0 = jnp.linalg.inv(k_DD0)\n",
    "    \n",
    "    k_xD0 = nngp_cov(params, xtest, xtrain)\n",
    "    proj0 = jnp.matmul(k_xD0, prec0)\n",
    "    \n",
    "    mu = jnp.matmul(proj0, ytrain)\n",
    "    \n",
    "    k_xx = nngp_var(params, xtest, xtest)\n",
    "    sig = k_xx - jnp.sum(proj0 * k_xD0, axis = 1)\n",
    "    \n",
    "    return mu, sig\n",
    "nngp_dist = jit(nngp_dist)"
   ]
  },
  {
   "cell_type": "code",
   "execution_count": 10,
   "id": "completed-amber",
   "metadata": {},
   "outputs": [],
   "source": [
    "#### loss functions\n",
    "\n",
    "def compute_lr(pgrad, scale = 2):\n",
    "    leaves = jnp.array(tree_leaves(pgrad))\n",
    "    lrs = 10**(-jnp.floor(jnp.log10(jnp.abs(leaves))) - scale)\n",
    "    return lrs\n",
    "\n",
    "def weighted_mse(k_inv, ytrain):\n",
    "    return jnp.matmul(jnp.matmul(ytrain.T, k_inv), ytrain)\n",
    "weighted_mse = jit(vmap(weighted_mse, (None, 1)))\n",
    "\n",
    "\n",
    "def full_nll_loss(params, xtrain, ytrain):\n",
    "    n, p = ytrain.shape\n",
    "\n",
    "    k = nngp_cov(params, xtrain, xtrain)\n",
    "    k += jnp.diag(jnp.repeat(params[0][2], n))\n",
    "    k_inv = jnp.linalg.inv(k)\n",
    "    \n",
    "    mse = jnp.sum(weighted_mse(k_inv, ytrain))\n",
    "    pen = p * jnp.linalg.slogdet(k)[1]\n",
    "    nor = p/2 * jnp.log(2 * math.pi)\n",
    "    return (0.5*mse + 0.5*pen + nor) / p\n",
    "full_grad_loss = jit(grad(full_nll_loss))\n",
    "\n",
    "\n",
    "def gradient_step(params, xtrain, ytrain):\n",
    "        \n",
    "    param, tdef = tree_flatten(params)\n",
    "    pgrad = tree_flatten(full_grad_loss(params, xtrain, ytrain))[0]\n",
    "    \n",
    "    lrs = compute_lr(pgrad, 2)\n",
    "    param = [a - lr * b for a, b, lr in zip(tree_leaves(param), pgrad, lrs)]\n",
    "    \n",
    "#     lr = 1e-3\n",
    "#     param = [a - lr * b for a, b in zip(tree_leaves(param), pgrad)]\n",
    "    params = tree_unflatten(tdef, param)\n",
    "    params = tree_map(param_abs, params)\n",
    "    return params\n",
    "gradient_step = jit(gradient_step)\n",
    "# parallel_gradient_step = vmap(gradient_step, in_axes = (0, None, None))"
   ]
  },
  {
   "cell_type": "code",
   "execution_count": 11,
   "id": "desirable-karaoke",
   "metadata": {},
   "outputs": [],
   "source": [
    "xhist = pickle.load(open('../data/saved/xhist_tas.pkl', 'rb'))\n",
    "xrcp = pickle.load(open('../data/saved/xrcp_tas.pkl', 'rb'))"
   ]
  },
  {
   "cell_type": "code",
   "execution_count": 12,
   "id": "powerful-projection",
   "metadata": {},
   "outputs": [],
   "source": [
    "nval = 72\n",
    "ntest = len(xrcp[0])\n",
    "ntest = 72 + 336\n",
    "nmod = len(xhist)"
   ]
  },
  {
   "cell_type": "code",
   "execution_count": 13,
   "id": "075a801c",
   "metadata": {},
   "outputs": [
    {
     "data": {
      "application/vnd.jupyter.widget-view+json": {
       "model_id": "f8f5f26a623a471fafdcdefe565a0f37",
       "version_major": 2,
       "version_minor": 0
      },
      "text/plain": [
       "  0%|          | 0/16 [00:00<?, ?it/s]"
      ]
     },
     "metadata": {},
     "output_type": "display_data"
    },
    {
     "data": {
      "application/vnd.jupyter.widget-view+json": {
       "model_id": "",
       "version_major": 2,
       "version_minor": 0
      },
      "text/plain": [
       "  0%|          | 0/300 [00:00<?, ?it/s]"
      ]
     },
     "metadata": {},
     "output_type": "display_data"
    },
    {
     "data": {
      "application/vnd.jupyter.widget-view+json": {
       "model_id": "",
       "version_major": 2,
       "version_minor": 0
      },
      "text/plain": [
       "  0%|          | 0/300 [00:00<?, ?it/s]"
      ]
     },
     "metadata": {},
     "output_type": "display_data"
    },
    {
     "data": {
      "application/vnd.jupyter.widget-view+json": {
       "model_id": "",
       "version_major": 2,
       "version_minor": 0
      },
      "text/plain": [
       "  0%|          | 0/300 [00:00<?, ?it/s]"
      ]
     },
     "metadata": {},
     "output_type": "display_data"
    },
    {
     "data": {
      "application/vnd.jupyter.widget-view+json": {
       "model_id": "",
       "version_major": 2,
       "version_minor": 0
      },
      "text/plain": [
       "  0%|          | 0/300 [00:00<?, ?it/s]"
      ]
     },
     "metadata": {},
     "output_type": "display_data"
    },
    {
     "data": {
      "application/vnd.jupyter.widget-view+json": {
       "model_id": "",
       "version_major": 2,
       "version_minor": 0
      },
      "text/plain": [
       "  0%|          | 0/300 [00:00<?, ?it/s]"
      ]
     },
     "metadata": {},
     "output_type": "display_data"
    },
    {
     "data": {
      "application/vnd.jupyter.widget-view+json": {
       "model_id": "",
       "version_major": 2,
       "version_minor": 0
      },
      "text/plain": [
       "  0%|          | 0/300 [00:00<?, ?it/s]"
      ]
     },
     "metadata": {},
     "output_type": "display_data"
    },
    {
     "data": {
      "application/vnd.jupyter.widget-view+json": {
       "model_id": "",
       "version_major": 2,
       "version_minor": 0
      },
      "text/plain": [
       "  0%|          | 0/300 [00:00<?, ?it/s]"
      ]
     },
     "metadata": {},
     "output_type": "display_data"
    },
    {
     "data": {
      "application/vnd.jupyter.widget-view+json": {
       "model_id": "",
       "version_major": 2,
       "version_minor": 0
      },
      "text/plain": [
       "  0%|          | 0/300 [00:00<?, ?it/s]"
      ]
     },
     "metadata": {},
     "output_type": "display_data"
    },
    {
     "data": {
      "application/vnd.jupyter.widget-view+json": {
       "model_id": "",
       "version_major": 2,
       "version_minor": 0
      },
      "text/plain": [
       "  0%|          | 0/300 [00:00<?, ?it/s]"
      ]
     },
     "metadata": {},
     "output_type": "display_data"
    },
    {
     "data": {
      "application/vnd.jupyter.widget-view+json": {
       "model_id": "",
       "version_major": 2,
       "version_minor": 0
      },
      "text/plain": [
       "  0%|          | 0/300 [00:00<?, ?it/s]"
      ]
     },
     "metadata": {},
     "output_type": "display_data"
    },
    {
     "data": {
      "application/vnd.jupyter.widget-view+json": {
       "model_id": "",
       "version_major": 2,
       "version_minor": 0
      },
      "text/plain": [
       "  0%|          | 0/300 [00:00<?, ?it/s]"
      ]
     },
     "metadata": {},
     "output_type": "display_data"
    },
    {
     "data": {
      "application/vnd.jupyter.widget-view+json": {
       "model_id": "",
       "version_major": 2,
       "version_minor": 0
      },
      "text/plain": [
       "  0%|          | 0/300 [00:00<?, ?it/s]"
      ]
     },
     "metadata": {},
     "output_type": "display_data"
    },
    {
     "data": {
      "application/vnd.jupyter.widget-view+json": {
       "model_id": "",
       "version_major": 2,
       "version_minor": 0
      },
      "text/plain": [
       "  0%|          | 0/300 [00:00<?, ?it/s]"
      ]
     },
     "metadata": {},
     "output_type": "display_data"
    },
    {
     "data": {
      "application/vnd.jupyter.widget-view+json": {
       "model_id": "",
       "version_major": 2,
       "version_minor": 0
      },
      "text/plain": [
       "  0%|          | 0/300 [00:00<?, ?it/s]"
      ]
     },
     "metadata": {},
     "output_type": "display_data"
    },
    {
     "data": {
      "application/vnd.jupyter.widget-view+json": {
       "model_id": "",
       "version_major": 2,
       "version_minor": 0
      },
      "text/plain": [
       "  0%|          | 0/300 [00:00<?, ?it/s]"
      ]
     },
     "metadata": {},
     "output_type": "display_data"
    },
    {
     "data": {
      "application/vnd.jupyter.widget-view+json": {
       "model_id": "",
       "version_major": 2,
       "version_minor": 0
      },
      "text/plain": [
       "  0%|          | 0/300 [00:00<?, ?it/s]"
      ]
     },
     "metadata": {},
     "output_type": "display_data"
    }
   ],
   "source": [
    "### 1 backwards lag\n",
    "\n",
    "nmod = len(xhist)\n",
    "ntrain = xhist[0].shape[0]\n",
    "ntest = xrcp[0].shape[0]\n",
    "\n",
    "mse_nolag_list = []\n",
    "for m1 in trange(nmod):\n",
    "    _, nlat, nlon = xhist[m1].shape\n",
    "\n",
    "    #### construct training set\n",
    "    xtrain = []\n",
    "    for m2 in range(nmod):\n",
    "        if m1 != m2:\n",
    "            x1 = xhist[m2].reshape(ntrain, -1)\n",
    "            x2 = xrcp[m2][0:nval].reshape(nval, -1)\n",
    "\n",
    "            xtrain.append(np.vstack([x1, x2]))\n",
    "\n",
    "    xmean = np.array([np.mean(f, axis = 1) for f in xtrain])\n",
    "    xtrain = jnp.hstack(xtrain)\n",
    "    nobs = xtrain.shape[0]\n",
    "\n",
    "    xtrain = jnp.stack([xtrain[1:], xtrain[:-1]], axis = 2)\n",
    "    xtrain = xtrain.reshape(nobs-1, -1)\n",
    "\n",
    "    y1 = xhist[m1].reshape(ntrain, -1)\n",
    "    y2 = xrcp[m1][0:nval].reshape(nval, -1)\n",
    "\n",
    "    ytrain = jnp.array(np.vstack([y1, y2]))\n",
    "    ymean = jnp.mean(ytrain, axis = 1)\n",
    "\n",
    "    x = jnp.vstack([xmean]).T\n",
    "    beta = jnp.linalg.inv(x.T @ x) @ x.T @ ymean\n",
    "    ytrain = ytrain - (x @ beta)[:,None]\n",
    "    ytrain = ytrain[1:]\n",
    "\n",
    "    #### test\n",
    "    xtest = []\n",
    "    for m2 in range(nmod):\n",
    "        if m1 != m2:\n",
    "            xtest.append(xrcp[m2][nval:ntest].reshape(ntest-nval, -1))\n",
    "\n",
    "     ## center and join data\n",
    "    xmean = np.array([np.mean(f, axis = 1) for f in xtest])\n",
    "    xtest = jnp.hstack(xtest)\n",
    "    nobs = xtest.shape[0]\n",
    "\n",
    "    xtest = jnp.stack([xtest[1:], xtest[:-1]], axis = 2)\n",
    "    xtest = xtest.reshape(nobs-1, -1)\n",
    "\n",
    "    ytest = np.array(xrcp[m1][nval:ntest]).reshape(ntest-nval, -1)\n",
    "    ytest = ytest[1:]\n",
    "    x = jnp.vstack([xmean]).T[1:]\n",
    "\n",
    "    ## randomize ensemble init\n",
    "    key = random.PRNGKey(1023)\n",
    "    params_nolag = nngp_params(key, depth)\n",
    "\n",
    "    ## fit ensemble\n",
    "    for _ in trange(300, leave = False):\n",
    "        params_nolag = gradient_step(params_nolag, xtrain, ytrain)\n",
    "\n",
    "    scale = np.cos(np.linspace(math.pi/2, -math.pi/2, nlat))\n",
    "\n",
    "    sgpr_lag1 = nngp_predict(params_nolag, xtest, xtrain, ytrain)\n",
    "    sgpr_lag1 += (x @ beta)[:,None]\n",
    "    sgpr_lag1 = sgpr_lag1.reshape((-1, nlat, nlon))\n",
    "\n",
    "    np.save(f'lag_predictions/tas_lag1_{m1}.npz', sgpr_lag1)"
   ]
  },
  {
   "cell_type": "code",
   "execution_count": 14,
   "id": "d65da6ce",
   "metadata": {},
   "outputs": [
    {
     "data": {
      "application/vnd.jupyter.widget-view+json": {
       "model_id": "7f3322b0bc474dcc94e7328511c9c039",
       "version_major": 2,
       "version_minor": 0
      },
      "text/plain": [
       "  0%|          | 0/16 [00:00<?, ?it/s]"
      ]
     },
     "metadata": {},
     "output_type": "display_data"
    },
    {
     "data": {
      "application/vnd.jupyter.widget-view+json": {
       "model_id": "",
       "version_major": 2,
       "version_minor": 0
      },
      "text/plain": [
       "  0%|          | 0/300 [00:00<?, ?it/s]"
      ]
     },
     "metadata": {},
     "output_type": "display_data"
    },
    {
     "data": {
      "application/vnd.jupyter.widget-view+json": {
       "model_id": "",
       "version_major": 2,
       "version_minor": 0
      },
      "text/plain": [
       "  0%|          | 0/300 [00:00<?, ?it/s]"
      ]
     },
     "metadata": {},
     "output_type": "display_data"
    },
    {
     "data": {
      "application/vnd.jupyter.widget-view+json": {
       "model_id": "",
       "version_major": 2,
       "version_minor": 0
      },
      "text/plain": [
       "  0%|          | 0/300 [00:00<?, ?it/s]"
      ]
     },
     "metadata": {},
     "output_type": "display_data"
    },
    {
     "data": {
      "application/vnd.jupyter.widget-view+json": {
       "model_id": "",
       "version_major": 2,
       "version_minor": 0
      },
      "text/plain": [
       "  0%|          | 0/300 [00:00<?, ?it/s]"
      ]
     },
     "metadata": {},
     "output_type": "display_data"
    },
    {
     "data": {
      "application/vnd.jupyter.widget-view+json": {
       "model_id": "",
       "version_major": 2,
       "version_minor": 0
      },
      "text/plain": [
       "  0%|          | 0/300 [00:00<?, ?it/s]"
      ]
     },
     "metadata": {},
     "output_type": "display_data"
    },
    {
     "data": {
      "application/vnd.jupyter.widget-view+json": {
       "model_id": "",
       "version_major": 2,
       "version_minor": 0
      },
      "text/plain": [
       "  0%|          | 0/300 [00:00<?, ?it/s]"
      ]
     },
     "metadata": {},
     "output_type": "display_data"
    },
    {
     "data": {
      "application/vnd.jupyter.widget-view+json": {
       "model_id": "",
       "version_major": 2,
       "version_minor": 0
      },
      "text/plain": [
       "  0%|          | 0/300 [00:00<?, ?it/s]"
      ]
     },
     "metadata": {},
     "output_type": "display_data"
    },
    {
     "data": {
      "application/vnd.jupyter.widget-view+json": {
       "model_id": "",
       "version_major": 2,
       "version_minor": 0
      },
      "text/plain": [
       "  0%|          | 0/300 [00:00<?, ?it/s]"
      ]
     },
     "metadata": {},
     "output_type": "display_data"
    },
    {
     "data": {
      "application/vnd.jupyter.widget-view+json": {
       "model_id": "",
       "version_major": 2,
       "version_minor": 0
      },
      "text/plain": [
       "  0%|          | 0/300 [00:00<?, ?it/s]"
      ]
     },
     "metadata": {},
     "output_type": "display_data"
    },
    {
     "data": {
      "application/vnd.jupyter.widget-view+json": {
       "model_id": "",
       "version_major": 2,
       "version_minor": 0
      },
      "text/plain": [
       "  0%|          | 0/300 [00:00<?, ?it/s]"
      ]
     },
     "metadata": {},
     "output_type": "display_data"
    },
    {
     "data": {
      "application/vnd.jupyter.widget-view+json": {
       "model_id": "",
       "version_major": 2,
       "version_minor": 0
      },
      "text/plain": [
       "  0%|          | 0/300 [00:00<?, ?it/s]"
      ]
     },
     "metadata": {},
     "output_type": "display_data"
    },
    {
     "data": {
      "application/vnd.jupyter.widget-view+json": {
       "model_id": "",
       "version_major": 2,
       "version_minor": 0
      },
      "text/plain": [
       "  0%|          | 0/300 [00:00<?, ?it/s]"
      ]
     },
     "metadata": {},
     "output_type": "display_data"
    },
    {
     "data": {
      "application/vnd.jupyter.widget-view+json": {
       "model_id": "",
       "version_major": 2,
       "version_minor": 0
      },
      "text/plain": [
       "  0%|          | 0/300 [00:00<?, ?it/s]"
      ]
     },
     "metadata": {},
     "output_type": "display_data"
    },
    {
     "data": {
      "application/vnd.jupyter.widget-view+json": {
       "model_id": "",
       "version_major": 2,
       "version_minor": 0
      },
      "text/plain": [
       "  0%|          | 0/300 [00:00<?, ?it/s]"
      ]
     },
     "metadata": {},
     "output_type": "display_data"
    },
    {
     "data": {
      "application/vnd.jupyter.widget-view+json": {
       "model_id": "",
       "version_major": 2,
       "version_minor": 0
      },
      "text/plain": [
       "  0%|          | 0/300 [00:00<?, ?it/s]"
      ]
     },
     "metadata": {},
     "output_type": "display_data"
    },
    {
     "data": {
      "application/vnd.jupyter.widget-view+json": {
       "model_id": "",
       "version_major": 2,
       "version_minor": 0
      },
      "text/plain": [
       "  0%|          | 0/300 [00:00<?, ?it/s]"
      ]
     },
     "metadata": {},
     "output_type": "display_data"
    }
   ],
   "source": [
    "### 1 backwards lag and 1 forwards lag\n",
    "\n",
    "nmod = len(xhist)\n",
    "ntrain = xhist[0].shape[0]\n",
    "ntest = xrcp[0].shape[0]\n",
    "\n",
    "mse_nolag_list = []\n",
    "for m1 in trange(nmod):\n",
    "    _, nlat, nlon = xhist[m1].shape\n",
    "\n",
    "    #### construct training set\n",
    "    xtrain = []\n",
    "    for m2 in range(nmod):\n",
    "        if m1 != m2:\n",
    "            x1 = xhist[m2].reshape(ntrain, -1)\n",
    "            x2 = xrcp[m2][0:nval].reshape(nval, -1)\n",
    "\n",
    "            xtrain.append(np.vstack([x1, x2]))\n",
    "\n",
    "    xmean = np.array([np.mean(f, axis = 1) for f in xtrain])\n",
    "    xtrain = jnp.hstack(xtrain)\n",
    "    nobs = xtrain.shape[0]\n",
    "\n",
    "    xtrain = jnp.stack([xtrain[2:], xtrain[1:-1], xtrain[:-2]], axis = 2)\n",
    "    xtrain = xtrain.reshape(nobs-2, -1)\n",
    "\n",
    "\n",
    "    y1 = xhist[m1].reshape(ntrain, -1)\n",
    "    y2 = xrcp[m1][0:nval].reshape(nval, -1)\n",
    "\n",
    "    ytrain = jnp.array(np.vstack([y1, y2]))\n",
    "    ymean = jnp.mean(ytrain, axis = 1)\n",
    "\n",
    "    x = jnp.vstack([xmean]).T\n",
    "    beta = jnp.linalg.inv(x.T @ x) @ x.T @ ymean\n",
    "    ytrain = ytrain - (x @ beta)[:,None]\n",
    "    ytrain = ytrain[1:-1]\n",
    "\n",
    "    #### test\n",
    "    xtest = []\n",
    "    for m2 in range(nmod):\n",
    "        if m1 != m2:\n",
    "            xtest.append(xrcp[m2][nval:ntest].reshape(ntest-nval, -1))\n",
    "\n",
    "    ## center and join data\n",
    "    xmean = np.array([np.mean(f, axis = 1) for f in xtest])\n",
    "    xtest = jnp.hstack(xtest)\n",
    "    nobs = xtest.shape[0]\n",
    "\n",
    "    xtest = jnp.stack([xtest[2:], xtest[1:-1], xtest[:-2]], axis = 2)\n",
    "    xtest = xtest.reshape(nobs-2, -1)\n",
    "\n",
    "    ytest = np.array(xrcp[m1][nval:ntest]).reshape(ntest-nval, -1)\n",
    "    ytest = ytest[1:-1]\n",
    "    x = jnp.vstack([xmean]).T[1:-1]\n",
    "\n",
    "    ## randomize ensemble init\n",
    "    key = random.PRNGKey(1023)\n",
    "    params_nolag = nngp_params(key, depth)\n",
    "\n",
    "    ## fit ensemble\n",
    "    for _ in trange(300, leave = False):\n",
    "        params_nolag = gradient_step(params_nolag, xtrain, ytrain)\n",
    "\n",
    "    scale = np.cos(np.linspace(math.pi/2, -math.pi/2, nlat))\n",
    "\n",
    "    sgpr_lag1 = nngp_predict(params_nolag, xtest, xtrain, ytrain)\n",
    "    sgpr_lag1 += (x @ beta)[:,None]\n",
    "    sgpr_lag1 = sgpr_lag1.reshape((-1, nlat, nlon))\n",
    "\n",
    "    np.save(f'lag_predictions/tas_lag2_{m1}.npz', sgpr_lag1)"
   ]
  },
  {
   "cell_type": "code",
   "execution_count": 37,
   "id": "033d4653",
   "metadata": {},
   "outputs": [],
   "source": [
    "months = 12 * 10\n",
    "decades = int((ntest-nval)/(months))"
   ]
  },
  {
   "cell_type": "code",
   "execution_count": 65,
   "id": "b10eaf22",
   "metadata": {},
   "outputs": [
    {
     "data": {
      "application/vnd.jupyter.widget-view+json": {
       "model_id": "f3f57a44c0a84125a3b03c1f63ed9043",
       "version_major": 2,
       "version_minor": 0
      },
      "text/plain": [
       "  0%|          | 0/16 [00:00<?, ?it/s]"
      ]
     },
     "metadata": {},
     "output_type": "display_data"
    }
   ],
   "source": [
    "# mse_lag1_time = []\n",
    "# mse_lag2_time = []\n",
    "# mse_lag1_model = []\n",
    "# mse_lag2_model = []\n",
    "\n",
    "months = 12 * 10\n",
    "decades = 8\n",
    "\n",
    "lag0_mse = np.zeros([decades, nmod])\n",
    "lag1_mse = np.zeros([decades, nmod])\n",
    "lag2_mse = np.zeros([decades, nmod])\n",
    "\n",
    "for m1 in trange(nmod):\n",
    "    \n",
    "    ytest = np.array(xrcp[m1][nval:ntest])\n",
    "    nlat = ytest.shape[1]\n",
    "    scale = np.cos(np.linspace(math.pi/2, -math.pi/2, nlat))\n",
    "    \n",
    "    # lag 0\n",
    "    ytest_lag0 = ytest\n",
    "    nngpr_lag0 = np.load(f'tas_predictions/sgpr_tas_{m1}.npz.npy')\n",
    "    \n",
    "    # lag 1\n",
    "    ytest_lag1 = ytest[1:]\n",
    "    nngpr_lag1 = np.load(f'lag_predictions/tas_lag1_{m1}.npz.npy')\n",
    "    \n",
    "    # lag 2\n",
    "    ytest_lag2 = ytest[1:-1]\n",
    "    nngpr_lag2 = np.load(f'lag_predictions/tas_lag2_{m1}.npz.npy')\n",
    "    \n",
    "    scale = np.cos(np.linspace(math.pi/2, -math.pi/2, nlat))\n",
    "    scale /= np.mean(scale)\n",
    "    \n",
    "    for d in range(decades):\n",
    "        \n",
    "        ytest_lag0_dec = ytest_lag0[(months*d):(months*(d+1))].astype('float32')\n",
    "        ytest_lag1_dec = ytest_lag1[(months*d):(months*(d+1))].astype('float32')\n",
    "        ytest_lag2_dec = ytest_lag2[(months*d):(months*(d+1))].astype('float32')\n",
    "        \n",
    "        nngpr_lag0_dec = nngpr_lag0[(months*d):(months*(d+1))].astype('float32')\n",
    "        nngpr_lag1_dec = nngpr_lag1[(months*d):(months*(d+1))].astype('float32')\n",
    "        nngpr_lag2_dec = nngpr_lag2[(months*d):(months*(d+1))].astype('float32')\n",
    "        \n",
    "        lag0_mse[d, m1] = np.mean((nngpr_lag0_dec - ytest_lag0_dec)**2 * scale[None,:,None])\n",
    "        lag1_mse[d, m1] = np.mean((nngpr_lag1_dec - ytest_lag1_dec)**2 * scale[None,:,None])\n",
    "        lag2_mse[d, m1] = np.mean((nngpr_lag2_dec - ytest_lag2_dec)**2 * scale[None,:,None])"
   ]
  },
  {
   "cell_type": "code",
   "execution_count": 72,
   "id": "a7f5b8f3",
   "metadata": {},
   "outputs": [
    {
     "data": {
      "image/png": "[encoded data removed]",
      "text/plain": [
       "<Figure size 900x500 with 4 Axes>"
      ]
     },
     "metadata": {},
     "output_type": "display_data"
    }
   ],
   "source": [
    "fig, ax = plt.subplots(2, 2, constrained_layout = True, figsize = (9, 5))\n",
    "\n",
    "ax[0,0].boxplot(lag0_mse.T - lag1_mse.T)\n",
    "ax[0,0].axhline(0)\n",
    "ax[0,0].set_title('MSE difference (lag0 - lag1) by decade')\n",
    "\n",
    "ax[0,1].boxplot(lag0_mse.T - lag2_mse.T)\n",
    "ax[0,1].axhline(0)\n",
    "ax[0,1].set_title('MSE difference (lag0 - lag2) by decade')\n",
    "\n",
    "ax[1,0].boxplot(lag0_mse - lag1_mse)\n",
    "ax[1,0].axhline(0)\n",
    "ax[1,0].set_title('MSE difference (lag0 - lag1) by model')\n",
    "\n",
    "ax[1,1].boxplot(lag0_mse - lag2_mse)\n",
    "ax[1,1].axhline(0)\n",
    "ax[1,1].set_title('MSE difference (lag0 - lag2) by model')\n",
    "plt.show()"
   ]
  },
  {
   "cell_type": "code",
   "execution_count": null,
   "id": "183dd28d",
   "metadata": {},
   "outputs": [],
   "source": []
  },
  {
   "cell_type": "code",
   "execution_count": null,
   "id": "dda329a7",
   "metadata": {},
   "outputs": [],
   "source": []
  }
 ],
 "metadata": {
  "kernelspec": {
   "display_name": "Python 3 (ipykernel)",
   "language": "python",
   "name": "python3"
  },
  "language_info": {
   "codemirror_mode": {
    "name": "ipython",
    "version": 3
   },
   "file_extension": ".py",
   "mimetype": "text/x-python",
   "name": "python",
   "nbconvert_exporter": "python",
   "pygments_lexer": "ipython3",
   "version": "3.9.12"
  }
 },
 "nbformat": 4,
 "nbformat_minor": 5
}
